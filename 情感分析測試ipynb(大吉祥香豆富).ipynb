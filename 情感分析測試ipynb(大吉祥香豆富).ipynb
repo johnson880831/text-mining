{
 "cells": [
  {
   "cell_type": "markdown",
   "metadata": {},
   "source": [
    "# 匯入資料：Google 評論"
   ]
  },
  {
   "cell_type": "markdown",
   "metadata": {},
   "source": []
  },
  {
   "cell_type": "code",
   "execution_count": 1,
   "metadata": {},
   "outputs": [
    {
     "data": {
      "text/html": [
       "<div>\n",
       "<style scoped>\n",
       "    .dataframe tbody tr th:only-of-type {\n",
       "        vertical-align: middle;\n",
       "    }\n",
       "\n",
       "    .dataframe tbody tr th {\n",
       "        vertical-align: top;\n",
       "    }\n",
       "\n",
       "    .dataframe thead th {\n",
       "        text-align: right;\n",
       "    }\n",
       "</style>\n",
       "<table border=\"1\" class=\"dataframe\">\n",
       "  <thead>\n",
       "    <tr style=\"text-align: right;\">\n",
       "      <th></th>\n",
       "      <th>評論</th>\n",
       "      <th>星等</th>\n",
       "    </tr>\n",
       "  </thead>\n",
       "  <tbody>\n",
       "    <tr>\n",
       "      <th>0</th>\n",
       "      <td>第一次用餐 體驗還不錯～我點的是三寶麵（冬粉、東北麵、米苔目）中辣 （不曉得是不是店員怕我不...</td>\n",
       "      <td>5</td>\n",
       "    </tr>\n",
       "    <tr>\n",
       "      <th>1</th>\n",
       "      <td>餐具自取，有提供杯水湯頭小辣覺得剛好，整體喝起來很順口，帶點微微花椒香氣配料可請店員更換調整...</td>\n",
       "      <td>4</td>\n",
       "    </tr>\n",
       "    <tr>\n",
       "      <th>2</th>\n",
       "      <td>體驗輕軌在淡江大學站下車，在搜尋附近美食，看到這家後，決定來吃看看，從輕軌站出來沿路下山走路...</td>\n",
       "      <td>5</td>\n",
       "    </tr>\n",
       "    <tr>\n",
       "      <th>3</th>\n",
       "      <td>阿就...普普通通的味精做的臭臭鍋口味產品....店員態度不是很好...環境不是很好.......</td>\n",
       "      <td>2</td>\n",
       "    </tr>\n",
       "    <tr>\n",
       "      <th>4</th>\n",
       "      <td>遠遠就聞到為啦😍鴨血滑嫩好吃😋豆腐也不錯.湯頭香濃.</td>\n",
       "      <td>5</td>\n",
       "    </tr>\n",
       "    <tr>\n",
       "      <th>...</th>\n",
       "      <td>...</td>\n",
       "      <td>...</td>\n",
       "    </tr>\n",
       "    <tr>\n",
       "      <th>95</th>\n",
       "      <td>🍲 東北麵(金針菇/豆腐/鴨血/貢丸/辣菜) ➞ $80▪️這天氣來淡水吃麻辣豆腐很棒，我比...</td>\n",
       "      <td>4</td>\n",
       "    </tr>\n",
       "    <tr>\n",
       "      <th>96</th>\n",
       "      <td>電話訂餐時阿婆態度很差，明明自己一直聽不清楚，反怪我沒講清楚，講要換東西後又怪我不一次講(?...</td>\n",
       "      <td>1</td>\n",
       "    </tr>\n",
       "    <tr>\n",
       "      <th>97</th>\n",
       "      <td>店員的服務很主動親切，內用有跟鄰近飲料店合作，閱讀不是很方便的飲料單，很怕辣又愛吃辣的我一定...</td>\n",
       "      <td>5</td>\n",
       "    </tr>\n",
       "    <tr>\n",
       "      <th>98</th>\n",
       "      <td>這樣的份量很划算 而且臭豆腐很紮實夠味 料也很多 湯汁濃郁 只是中辣不辣 下次吃吃大辣</td>\n",
       "      <td>5</td>\n",
       "    </tr>\n",
       "    <tr>\n",
       "      <th>99</th>\n",
       "      <td>八十元的價格，吃起來算不錯！環境也很乾淨！路過可以來吃一吃！</td>\n",
       "      <td>4</td>\n",
       "    </tr>\n",
       "  </tbody>\n",
       "</table>\n",
       "<p>100 rows × 2 columns</p>\n",
       "</div>"
      ],
      "text/plain": [
       "                                                   評論  星等\n",
       "0   第一次用餐 體驗還不錯～我點的是三寶麵（冬粉、東北麵、米苔目）中辣 （不曉得是不是店員怕我不...   5\n",
       "1   餐具自取，有提供杯水湯頭小辣覺得剛好，整體喝起來很順口，帶點微微花椒香氣配料可請店員更換調整...   4\n",
       "2   體驗輕軌在淡江大學站下車，在搜尋附近美食，看到這家後，決定來吃看看，從輕軌站出來沿路下山走路...   5\n",
       "3   阿就...普普通通的味精做的臭臭鍋口味產品....店員態度不是很好...環境不是很好.......   2\n",
       "4                          遠遠就聞到為啦😍鴨血滑嫩好吃😋豆腐也不錯.湯頭香濃.   5\n",
       "..                                                ...  ..\n",
       "95  🍲 東北麵(金針菇/豆腐/鴨血/貢丸/辣菜) ➞ $80▪️這天氣來淡水吃麻辣豆腐很棒，我比...   4\n",
       "96  電話訂餐時阿婆態度很差，明明自己一直聽不清楚，反怪我沒講清楚，講要換東西後又怪我不一次講(?...   1\n",
       "97  店員的服務很主動親切，內用有跟鄰近飲料店合作，閱讀不是很方便的飲料單，很怕辣又愛吃辣的我一定...   5\n",
       "98        這樣的份量很划算 而且臭豆腐很紮實夠味 料也很多 湯汁濃郁 只是中辣不辣 下次吃吃大辣   5\n",
       "99                     八十元的價格，吃起來算不錯！環境也很乾淨！路過可以來吃一吃！   4\n",
       "\n",
       "[100 rows x 2 columns]"
      ]
     },
     "execution_count": 1,
     "metadata": {},
     "output_type": "execute_result"
    }
   ],
   "source": [
    "import pandas as pd\n",
    "df = pd.read_excel('活頁簿1.xlsx')\n",
    "df"
   ]
  },
  {
   "cell_type": "markdown",
   "metadata": {},
   "source": [
    "# 資料處理"
   ]
  },
  {
   "cell_type": "code",
   "execution_count": 2,
   "metadata": {},
   "outputs": [],
   "source": [
    "df['星等'] = df['星等'].astype('int')"
   ]
  },
  {
   "cell_type": "markdown",
   "metadata": {},
   "source": [
    "<b>各星等數量分佈</b>"
   ]
  },
  {
   "cell_type": "code",
   "execution_count": 3,
   "metadata": {
    "scrolled": true
   },
   "outputs": [
    {
     "data": {
      "text/html": [
       "<div>\n",
       "<style scoped>\n",
       "    .dataframe tbody tr th:only-of-type {\n",
       "        vertical-align: middle;\n",
       "    }\n",
       "\n",
       "    .dataframe tbody tr th {\n",
       "        vertical-align: top;\n",
       "    }\n",
       "\n",
       "    .dataframe thead th {\n",
       "        text-align: right;\n",
       "    }\n",
       "</style>\n",
       "<table border=\"1\" class=\"dataframe\">\n",
       "  <thead>\n",
       "    <tr style=\"text-align: right;\">\n",
       "      <th></th>\n",
       "      <th>評論</th>\n",
       "    </tr>\n",
       "    <tr>\n",
       "      <th>星等</th>\n",
       "      <th></th>\n",
       "    </tr>\n",
       "  </thead>\n",
       "  <tbody>\n",
       "    <tr>\n",
       "      <th>1</th>\n",
       "      <td>11</td>\n",
       "    </tr>\n",
       "    <tr>\n",
       "      <th>2</th>\n",
       "      <td>9</td>\n",
       "    </tr>\n",
       "    <tr>\n",
       "      <th>3</th>\n",
       "      <td>10</td>\n",
       "    </tr>\n",
       "    <tr>\n",
       "      <th>4</th>\n",
       "      <td>26</td>\n",
       "    </tr>\n",
       "    <tr>\n",
       "      <th>5</th>\n",
       "      <td>44</td>\n",
       "    </tr>\n",
       "  </tbody>\n",
       "</table>\n",
       "</div>"
      ],
      "text/plain": [
       "    評論\n",
       "星等    \n",
       "1   11\n",
       "2    9\n",
       "3   10\n",
       "4   26\n",
       "5   44"
      ]
     },
     "execution_count": 3,
     "metadata": {},
     "output_type": "execute_result"
    }
   ],
   "source": [
    "df.groupby('星等').count()"
   ]
  },
  {
   "cell_type": "code",
   "execution_count": 4,
   "metadata": {},
   "outputs": [],
   "source": [
    "for i in range(len(df)):\n",
    "    # 刪除原始評論部分文字\n",
    "    df.loc[i, '評論'] = df.loc[i, '評論'].split('(原始評論)')[0]\n",
    "    # 將(由 Google 提供翻譯)、\\n 取代成空白\n",
    "    df.loc[i, '評論'] = df.loc[i, '評論'].replace('(由 Google 提供翻譯)', ' ')\n",
    "    df.loc[i, '評論'] = df.loc[i, '評論'].replace('\\n', ' ')"
   ]
  },
  {
   "cell_type": "code",
   "execution_count": 5,
   "metadata": {},
   "outputs": [],
   "source": [
    "pd.set_option('display.max_rows', 10000)"
   ]
  },
  {
   "cell_type": "code",
   "execution_count": 6,
   "metadata": {},
   "outputs": [
    {
     "data": {
      "text/html": [
       "<div>\n",
       "<style scoped>\n",
       "    .dataframe tbody tr th:only-of-type {\n",
       "        vertical-align: middle;\n",
       "    }\n",
       "\n",
       "    .dataframe tbody tr th {\n",
       "        vertical-align: top;\n",
       "    }\n",
       "\n",
       "    .dataframe thead th {\n",
       "        text-align: right;\n",
       "    }\n",
       "</style>\n",
       "<table border=\"1\" class=\"dataframe\">\n",
       "  <thead>\n",
       "    <tr style=\"text-align: right;\">\n",
       "      <th></th>\n",
       "      <th>評論</th>\n",
       "      <th>星等</th>\n",
       "    </tr>\n",
       "  </thead>\n",
       "  <tbody>\n",
       "    <tr>\n",
       "      <th>0</th>\n",
       "      <td>第一次用餐 體驗還不錯～我點的是三寶麵（冬粉、東北麵、米苔目）中辣 （不曉得是不是店員怕我不...</td>\n",
       "      <td>5</td>\n",
       "    </tr>\n",
       "    <tr>\n",
       "      <th>1</th>\n",
       "      <td>餐具自取，有提供杯水湯頭小辣覺得剛好，整體喝起來很順口，帶點微微花椒香氣配料可請店員更換調整...</td>\n",
       "      <td>4</td>\n",
       "    </tr>\n",
       "    <tr>\n",
       "      <th>2</th>\n",
       "      <td>體驗輕軌在淡江大學站下車，在搜尋附近美食，看到這家後，決定來吃看看，從輕軌站出來沿路下山走路...</td>\n",
       "      <td>5</td>\n",
       "    </tr>\n",
       "    <tr>\n",
       "      <th>3</th>\n",
       "      <td>阿就...普普通通的味精做的臭臭鍋口味產品....店員態度不是很好...環境不是很好.......</td>\n",
       "      <td>2</td>\n",
       "    </tr>\n",
       "    <tr>\n",
       "      <th>4</th>\n",
       "      <td>遠遠就聞到為啦😍鴨血滑嫩好吃😋豆腐也不錯.湯頭香濃.</td>\n",
       "      <td>5</td>\n",
       "    </tr>\n",
       "    <tr>\n",
       "      <th>5</th>\n",
       "      <td>湯頭溫順不重鹹，豆腐有入味可惜稍嫌不夠臭，鴨血滑嫩好吃，整體來說還不錯。</td>\n",
       "      <td>3</td>\n",
       "    </tr>\n",
       "    <tr>\n",
       "      <th>6</th>\n",
       "      <td>服務：離開學校後再回來，已經搬到操場旁，環境是比以前乾淨許多，座位也變多了，服務態度也不錯，...</td>\n",
       "      <td>4</td>\n",
       "    </tr>\n",
       "    <tr>\n",
       "      <th>7</th>\n",
       "      <td>一碗80 麵給蠻多的 鴨血四塊 滷的沒腥味 麻辣臭豆腐兩塊還算入味 其他還有金針菇 高麗菜 ...</td>\n",
       "      <td>3</td>\n",
       "    </tr>\n",
       "    <tr>\n",
       "      <th>8</th>\n",
       "      <td>鴨血+臭豆腐共4塊一碗45鴨血很嫩，可以分紅燒/小辣/中辣/大辣加麵加料的80當正餐男生應該...</td>\n",
       "      <td>5</td>\n",
       "    </tr>\n",
       "    <tr>\n",
       "      <th>9</th>\n",
       "      <td>畢業後7年再度回訪 口味不變一樣好吃漲價我覺得合理 只要品質維持住 漲可以接受過去的紅茶沒了...</td>\n",
       "      <td>5</td>\n",
       "    </tr>\n",
       "    <tr>\n",
       "      <th>10</th>\n",
       "      <td>東北麵加麵鴨血和豆腐算好吃，叫號碼取餐，人多要等很久，價錢還行</td>\n",
       "      <td>4</td>\n",
       "    </tr>\n",
       "    <tr>\n",
       "      <th>11</th>\n",
       "      <td>還不錯 點了東北麵中辣下次點大辣 冬粉</td>\n",
       "      <td>4</td>\n",
       "    </tr>\n",
       "    <tr>\n",
       "      <th>12</th>\n",
       "      <td>又做錯⋯下午非餐期點了豆腐湯外帶回去，一打開就看見四塊鴨血，已經不是第一次這樣了，上次做錯還...</td>\n",
       "      <td>1</td>\n",
       "    </tr>\n",
       "    <tr>\n",
       "      <th>13</th>\n",
       "      <td>果然還是想念的那個味道😭也沒有等太久 現在的用餐環境變好了下次還要這樣點：東北麵 金針丸子換...</td>\n",
       "      <td>5</td>\n",
       "    </tr>\n",
       "    <tr>\n",
       "      <th>14</th>\n",
       "      <td>第一次吃到蕎麥麵搭配的豆腐鴨血，建議小辣更好吃！麵量份量充足，鴨血入味，可以免費加湯，加全碗...</td>\n",
       "      <td>4</td>\n",
       "    </tr>\n",
       "    <tr>\n",
       "      <th>15</th>\n",
       "      <td>吃的是一種回憶從以前60元加麵不用錢到現在一碗80元加麵10元從以前在大學城到現在搬到學府路...</td>\n",
       "      <td>4</td>\n",
       "    </tr>\n",
       "    <tr>\n",
       "      <th>16</th>\n",
       "      <td>一碗80元，我個人覺得cp值滿高豬血嫩又好吃！目前只收現金</td>\n",
       "      <td>5</td>\n",
       "    </tr>\n",
       "    <tr>\n",
       "      <th>17</th>\n",
       "      <td>只有單一品項的店：臭豆腐麵，淡水生意卻非常好。可以選擇東北麵、米苔目、冬粉。鴨血的口味很好，...</td>\n",
       "      <td>4</td>\n",
       "    </tr>\n",
       "    <tr>\n",
       "      <th>18</th>\n",
       "      <td>CP值高 份量超夠吃 第一次吃到這麼入味的豆腐</td>\n",
       "      <td>5</td>\n",
       "    </tr>\n",
       "    <tr>\n",
       "      <th>19</th>\n",
       "      <td>米台目很好吃，但自重搬來這就很少來，不好停車，也不能電話先訂</td>\n",
       "      <td>4</td>\n",
       "    </tr>\n",
       "    <tr>\n",
       "      <th>20</th>\n",
       "      <td>份量很大！調味有特色很適合冬天吃</td>\n",
       "      <td>5</td>\n",
       "    </tr>\n",
       "    <tr>\n",
       "      <th>21</th>\n",
       "      <td>價格有點小貴對一個南部人來說 80塊來說吃不太飽</td>\n",
       "      <td>3</td>\n",
       "    </tr>\n",
       "    <tr>\n",
       "      <th>22</th>\n",
       "      <td>味道跟虎尾賣的差不多，如果想回去虎尾吃但覺得遠，可以來這裡找到那熟悉的味道</td>\n",
       "      <td>5</td>\n",
       "    </tr>\n",
       "    <tr>\n",
       "      <th>23</th>\n",
       "      <td>份量蠻多的東北麵蠻容易爛掉的要趕快吃有不吃的食材都可以更換👍豆腐吸滿滿湯汁 超好吃❤️</td>\n",
       "      <td>5</td>\n",
       "    </tr>\n",
       "    <tr>\n",
       "      <th>24</th>\n",
       "      <td>有禮貌地確認是否不能內用，被店員兇「你應該用看的就知道不能內用」😑店門口完全沒貼「禁內用」的...</td>\n",
       "      <td>1</td>\n",
       "    </tr>\n",
       "    <tr>\n",
       "      <th>25</th>\n",
       "      <td>求學時期的好味道，到現在仍是沒有變👍，雖然價格漲到$80，但還算可接受的範圍。鴨血十分新鮮有...</td>\n",
       "      <td>5</td>\n",
       "    </tr>\n",
       "    <tr>\n",
       "      <th>26</th>\n",
       "      <td>嗨， 看過各位大大們的評論了 ，原來不是只有我覺得這間店的服務態度非常差。食物本身我給4顆星...</td>\n",
       "      <td>2</td>\n",
       "    </tr>\n",
       "    <tr>\n",
       "      <th>27</th>\n",
       "      <td>口味ok  但是附近太難停車開車到附近空曠地點先停打電話先預訂外帶  還被告知  到場才能點...</td>\n",
       "      <td>3</td>\n",
       "    </tr>\n",
       "    <tr>\n",
       "      <th>28</th>\n",
       "      <td>非常優秀，鴨血「嫩」！，豆腐孔洞多，充滿湯汁，非常好吃！東北麵也很推薦，米苔目很Q，來淡水一...</td>\n",
       "      <td>5</td>\n",
       "    </tr>\n",
       "    <tr>\n",
       "      <th>29</th>\n",
       "      <td>淡水的大吉祥東北麵，主要的內容食材為“臭豆腐、鴨血、小丸子、金針菇”，湯頭類似麻辣鍋的湯頭，...</td>\n",
       "      <td>4</td>\n",
       "    </tr>\n",
       "    <tr>\n",
       "      <th>30</th>\n",
       "      <td>朋友介紹來吃的，聽說超過20年以上，湯頭很好，鴨血也很好吃，推，價格以學生來說很親民</td>\n",
       "      <td>5</td>\n",
       "    </tr>\n",
       "    <tr>\n",
       "      <th>31</th>\n",
       "      <td>我一向很尊敬老人，但這個老人態度很差，你門口又沒寫要怎麼點餐，一出來就兇人，是再兇什麼，不是...</td>\n",
       "      <td>1</td>\n",
       "    </tr>\n",
       "    <tr>\n",
       "      <th>32</th>\n",
       "      <td>週六下午2點左右內用還是很多人點了紅燒東北麵跟小辣東北麵但他們小辣其實不太辣(本人頗不能吃辣...</td>\n",
       "      <td>3</td>\n",
       "    </tr>\n",
       "    <tr>\n",
       "      <th>33</th>\n",
       "      <td>自從朋友帶我來吃過後，就覺得很喜歡，所以這次也帶家人一起來吃☺️☺️✔️店內的店員、老闆都很...</td>\n",
       "      <td>4</td>\n",
       "    </tr>\n",
       "    <tr>\n",
       "      <th>34</th>\n",
       "      <td>是好吃，從佛心暢飲紅茶、加麵加湯、加泡菜，現在真的回不去了只能加湯...，但店家也努力改變很...</td>\n",
       "      <td>5</td>\n",
       "    </tr>\n",
       "    <tr>\n",
       "      <th>35</th>\n",
       "      <td>好吃,湯味道剛好不死鹹,鴨血給好多照片下面是滿滿的麵,這樣80很ok!</td>\n",
       "      <td>5</td>\n",
       "    </tr>\n",
       "    <tr>\n",
       "      <th>36</th>\n",
       "      <td>跟朋友兩人來吃我們各背一個後背包坐下時想放在沒人的座位上（店裡還有許多空位）卻被阻止說不能放...</td>\n",
       "      <td>2</td>\n",
       "    </tr>\n",
       "    <tr>\n",
       "      <th>37</th>\n",
       "      <td>疫情穩定開放內用後回去吃，只覺得料的份量少好多！下次不會特定跑去遙遠的淡水吃了...（住新店）</td>\n",
       "      <td>2</td>\n",
       "    </tr>\n",
       "    <tr>\n",
       "      <th>38</th>\n",
       "      <td>從60元吃到現在80元～ㄧ樣很好吃啊！天氣冷冷來ㄧ碗真的超滿足！不吃辣的可以吃紅燒的！連小朋...</td>\n",
       "      <td>5</td>\n",
       "    </tr>\n",
       "    <tr>\n",
       "      <th>39</th>\n",
       "      <td>雖然換了地點⋯雖然漲價了⋯但依舊是淡江人的回憶，吃的是青春！</td>\n",
       "      <td>5</td>\n",
       "    </tr>\n",
       "    <tr>\n",
       "      <th>40</th>\n",
       "      <td>員工沒戴口罩，點餐員工收錢後也沒消毒手，又直接拿取裝食物的袋子手直接伸進去撐開，碗掉落地上，...</td>\n",
       "      <td>1</td>\n",
       "    </tr>\n",
       "    <tr>\n",
       "      <th>41</th>\n",
       "      <td>豆腐跟鴨血很入味，平民中的美食😋😋😋很大一碗CP值高😍😍😍淡水捷運站坐紅28到淡江大學站下車...</td>\n",
       "      <td>5</td>\n",
       "    </tr>\n",
       "    <tr>\n",
       "      <th>42</th>\n",
       "      <td>好吃的豆腐與鴨血，值得品嚐</td>\n",
       "      <td>5</td>\n",
       "    </tr>\n",
       "    <tr>\n",
       "      <th>43</th>\n",
       "      <td>麵條選擇多、料可以換</td>\n",
       "      <td>4</td>\n",
       "    </tr>\n",
       "    <tr>\n",
       "      <th>44</th>\n",
       "      <td>辣味（可選小辣、中辣、大辣）麵（可選東北麵、烏龍麵、冬粉），紅燒（不辣），每碗80元，外帶是...</td>\n",
       "      <td>4</td>\n",
       "    </tr>\n",
       "    <tr>\n",
       "      <th>45</th>\n",
       "      <td>聽說是淡大人回憶，冬季溼冷淡水的良伴，定價$80，配料固定，豆腐、鴨血、金針菇、丸子，東北麵...</td>\n",
       "      <td>5</td>\n",
       "    </tr>\n",
       "    <tr>\n",
       "      <th>46</th>\n",
       "      <td>爛透了 效率有夠差勁！明明沒什麼客人，外帶一碗麵足足等了半小時？讓人火大</td>\n",
       "      <td>1</td>\n",
       "    </tr>\n",
       "    <tr>\n",
       "      <th>47</th>\n",
       "      <td>淡江大學生的最愛排了滿多人的🅿️：1.開車，附近🈶️汽車停車場在走路過來2.騎機車3.騎ub...</td>\n",
       "      <td>4</td>\n",
       "    </tr>\n",
       "    <tr>\n",
       "      <th>48</th>\n",
       "      <td>豆腐絕對是目前吃過最好吃的完全有5星的資格但湯頭沒有想像中好喝香氣略顯不足（？）鴨血也不夠味...</td>\n",
       "      <td>3</td>\n",
       "    </tr>\n",
       "    <tr>\n",
       "      <th>49</th>\n",
       "      <td>80一碗，鴨血4塊、豆腐2塊、小貢丸5顆、辣菜、金針菇，麵條有三款可挑，料多，味道不錯~上菜...</td>\n",
       "      <td>4</td>\n",
       "    </tr>\n",
       "    <tr>\n",
       "      <th>50</th>\n",
       "      <td>不能電話預約，出餐速度很慢，讓一堆人擠在門口「群聚」。其中某男老店員態度真的很差，價格很不親民。</td>\n",
       "      <td>1</td>\n",
       "    </tr>\n",
       "    <tr>\n",
       "      <th>51</th>\n",
       "      <td>食物固然好吃，但吃現場的需要有耐性等，因為不是先到先服務，是看老闆心情，好幾次等超過15分鐘...</td>\n",
       "      <td>1</td>\n",
       "    </tr>\n",
       "    <tr>\n",
       "      <th>52</th>\n",
       "      <td>美味臭豆腐鴨血米台目，米台目有彈性，豆腐十分入味！</td>\n",
       "      <td>5</td>\n",
       "    </tr>\n",
       "    <tr>\n",
       "      <th>53</th>\n",
       "      <td>淡水地區有名的校園美食之一如果有到淡水想吃個便餐推薦可以前來試試但若是認真想找美食我想應該還...</td>\n",
       "      <td>4</td>\n",
       "    </tr>\n",
       "    <tr>\n",
       "      <th>54</th>\n",
       "      <td>進門有空位都能坐，店員會問誰還沒點餐，說一聲他就會過來幫你點餐。鴨血臭豆腐一碗$80，可選辣...</td>\n",
       "      <td>3</td>\n",
       "    </tr>\n",
       "    <tr>\n",
       "      <th>55</th>\n",
       "      <td>80元的份量非常足夠鴨血搭配東北麵是較多人的選擇上菜速度跟空間都讓人感到舒適</td>\n",
       "      <td>4</td>\n",
       "    </tr>\n",
       "    <tr>\n",
       "      <th>56</th>\n",
       "      <td>湯頭濃郁，米苔目很Q彈，冬粉吸飽湯汁吃起來很過癮！底料（鴨血臭豆腐）非常好吃！！！！Cp非常...</td>\n",
       "      <td>5</td>\n",
       "    </tr>\n",
       "    <tr>\n",
       "      <th>57</th>\n",
       "      <td>一如既往的好吃！沒吃過米苔目的一定要試試看，我的最愛！</td>\n",
       "      <td>5</td>\n",
       "    </tr>\n",
       "    <tr>\n",
       "      <th>58</th>\n",
       "      <td>我們從舊的店面吃到換新的店面，唯一的感受是態度愈來愈差，內用點餐的人員真的服務態度好差喔，連...</td>\n",
       "      <td>2</td>\n",
       "    </tr>\n",
       "    <tr>\n",
       "      <th>59</th>\n",
       "      <td>好吃//吃很多次了看最近網評似乎服務態度很差，還好，我沒遇到～</td>\n",
       "      <td>5</td>\n",
       "    </tr>\n",
       "    <tr>\n",
       "      <th>60</th>\n",
       "      <td>從大學吃到出社會，自從搬家後覺得點餐的阿姨動作慢，態度差！到底有多不耐煩，看著你們的招牌表示...</td>\n",
       "      <td>2</td>\n",
       "    </tr>\n",
       "    <tr>\n",
       "      <th>61</th>\n",
       "      <td>鴨血真的好嫩、豆腐也很入味，辣菜特別脆，東北麵也不軟爛，滿滿一碗80可以免費加湯，加麵要等麵...</td>\n",
       "      <td>5</td>\n",
       "    </tr>\n",
       "    <tr>\n",
       "      <th>62</th>\n",
       "      <td>只能說活了快40年，吃過最好吃的鴨血豆腐店! 無論是鴨血滑嫩度、豆腐的入味味、湯頭鹹淡以及配...</td>\n",
       "      <td>5</td>\n",
       "    </tr>\n",
       "    <tr>\n",
       "      <th>63</th>\n",
       "      <td>店面寬敞舒適；湯頭好喝，食材都很入味；麵可以混搭，這樣可以同時吃到吸附湯汁香氣的東北麵與Q彈...</td>\n",
       "      <td>5</td>\n",
       "    </tr>\n",
       "    <tr>\n",
       "      <th>64</th>\n",
       "      <td>東北麵非常入味好吃，建議第一次來的人嘗試看看，個人很會吃辣，中辣覺得不會太辣，不喜歡鴨血的人...</td>\n",
       "      <td>5</td>\n",
       "    </tr>\n",
       "    <tr>\n",
       "      <th>65</th>\n",
       "      <td>第一次吃新地址，味道跟往常一模一樣，店內環境變得寬敞乾淨很多。</td>\n",
       "      <td>5</td>\n",
       "    </tr>\n",
       "    <tr>\n",
       "      <th>66</th>\n",
       "      <td>豆腐和鴨血很入味可以選擇辣度品項很少，座位區舒適服務人員也很親切</td>\n",
       "      <td>4</td>\n",
       "    </tr>\n",
       "    <tr>\n",
       "      <th>67</th>\n",
       "      <td>蠻好吃的 一碗80入座後服務人員會來點餐有免費冰水</td>\n",
       "      <td>5</td>\n",
       "    </tr>\n",
       "    <tr>\n",
       "      <th>68</th>\n",
       "      <td>沒有以前好吃，店員說話有些不耐煩。</td>\n",
       "      <td>3</td>\n",
       "    </tr>\n",
       "    <tr>\n",
       "      <th>69</th>\n",
       "      <td>以前給過五星現在再過來，店裡客人沒坐滿，還要等很久，態度也變差了，所以收回2星</td>\n",
       "      <td>3</td>\n",
       "    </tr>\n",
       "    <tr>\n",
       "      <th>70</th>\n",
       "      <td>吃了10幾年，從淡江大學旁吃到現在口味是稍微變淡，店員還可以(沒碰到沒禮貌的)，倒是碰到比較...</td>\n",
       "      <td>4</td>\n",
       "    </tr>\n",
       "    <tr>\n",
       "      <th>71</th>\n",
       "      <td>鴨血豆腐都很入味最愛他們家的東北麵！Ig:shih___food</td>\n",
       "      <td>5</td>\n",
       "    </tr>\n",
       "    <tr>\n",
       "      <th>72</th>\n",
       "      <td>東西好吃，但是改了不能先電話預約再取餐，讓一群人群聚在門口等餐，試問店家這樣有比較好嗎？</td>\n",
       "      <td>1</td>\n",
       "    </tr>\n",
       "    <tr>\n",
       "      <th>73</th>\n",
       "      <td>$80料多便宜又好吃豆腐滷的很入味一碗吃的很飽，口味小辣就蠻辣的辣菜很脆很好吃！中午人很多要...</td>\n",
       "      <td>5</td>\n",
       "    </tr>\n",
       "    <tr>\n",
       "      <th>74</th>\n",
       "      <td>菜單詳細列出食材，有不喜歡的都可以調整～雖然跟幾年前比起來有漲價又不能免費加麵，但總覺得不能...</td>\n",
       "      <td>5</td>\n",
       "    </tr>\n",
       "    <tr>\n",
       "      <th>75</th>\n",
       "      <td>本來在淡大北新路時相當好吃 搬到淡大運動場後面 一切都變了 鴨血腥味重 湯頭變味 附的菜也少...</td>\n",
       "      <td>2</td>\n",
       "    </tr>\n",
       "    <tr>\n",
       "      <th>76</th>\n",
       "      <td>十多年前的味道依舊沒變，但是位置搬到大田寮那邊不太方便</td>\n",
       "      <td>4</td>\n",
       "    </tr>\n",
       "    <tr>\n",
       "      <th>77</th>\n",
       "      <td>淡大人的回憶，雖然不像學生時期那麼高cp值，但味道還是讓人懷念</td>\n",
       "      <td>5</td>\n",
       "    </tr>\n",
       "    <tr>\n",
       "      <th>78</th>\n",
       "      <td>就在剛剛一位對工作很不耐煩的阿姨幫我點餐我在點餐就一直插嘴 我只說我不要什麼要換什麼還沒聽完...</td>\n",
       "      <td>1</td>\n",
       "    </tr>\n",
       "    <tr>\n",
       "      <th>79</th>\n",
       "      <td>鴨血豆腐超入味，好吃。</td>\n",
       "      <td>5</td>\n",
       "    </tr>\n",
       "    <tr>\n",
       "      <th>80</th>\n",
       "      <td>食物4顆星、服務態度0.5顆星食物好吃歸好吃、態度部分真的非常有待加強</td>\n",
       "      <td>2</td>\n",
       "    </tr>\n",
       "    <tr>\n",
       "      <th>81</th>\n",
       "      <td>便宜好吃 記得要至少小辣 味道完全不同</td>\n",
       "      <td>5</td>\n",
       "    </tr>\n",
       "    <tr>\n",
       "      <th>82</th>\n",
       "      <td>兩個人點不一樣的，一人一碗，吃到不同口味比較好</td>\n",
       "      <td>4</td>\n",
       "    </tr>\n",
       "    <tr>\n",
       "      <th>83</th>\n",
       "      <td>現在因為疫情的關係沒有辦法內用，所以豆腐的燙跟香，還是略有差異，不過不過很多人可能是透過打電...</td>\n",
       "      <td>3</td>\n",
       "    </tr>\n",
       "    <tr>\n",
       "      <th>84</th>\n",
       "      <td>臭豆腐很紮實很喜歡！一大碗吃下來80元覺得可以！</td>\n",
       "      <td>4</td>\n",
       "    </tr>\n",
       "    <tr>\n",
       "      <th>85</th>\n",
       "      <td>態度真的很差。自帶餐具。只是想多一點點湯也不願意給😡不是加湯免費嗎！會自帶餐具的就是常客。連...</td>\n",
       "      <td>2</td>\n",
       "    </tr>\n",
       "    <tr>\n",
       "      <th>86</th>\n",
       "      <td>很傳統的小店，鴨血臭豆腐是招牌，是淡大熱門在地美食。點餐流程是選擇一樣麵食，料基本就有鴨血、...</td>\n",
       "      <td>4</td>\n",
       "    </tr>\n",
       "    <tr>\n",
       "      <th>87</th>\n",
       "      <td>8/26晚上想內用，不過目前還沒開放內用，因為專程從台中上台北吃，所幸外帶一碗到淡水老街旁椅...</td>\n",
       "      <td>5</td>\n",
       "    </tr>\n",
       "    <tr>\n",
       "      <th>88</th>\n",
       "      <td>湯頭好喝不死鹹，個人覺的小辣更加分來淡江大學附近一定要品嚐</td>\n",
       "      <td>5</td>\n",
       "    </tr>\n",
       "    <tr>\n",
       "      <th>89</th>\n",
       "      <td>湯頭中辣鮮，料多食足</td>\n",
       "      <td>5</td>\n",
       "    </tr>\n",
       "    <tr>\n",
       "      <th>90</th>\n",
       "      <td>疫情期間 下午3-5點沒開哦 大家別來!粉絲專業放假的嗎?連這細節都不公布一下?</td>\n",
       "      <td>1</td>\n",
       "    </tr>\n",
       "    <tr>\n",
       "      <th>91</th>\n",
       "      <td>一碗鴨血臭豆腐+東北麵，整碗應有盡有，豆腐的每個孔洞吸滿湯汁與香氣，鴨血較沒那麼入味但仍是很...</td>\n",
       "      <td>5</td>\n",
       "    </tr>\n",
       "    <tr>\n",
       "      <th>92</th>\n",
       "      <td>以前舊店址在淡大北新路上，蠻多人稱他為淡水必吃美食，後來搬到淡大操場旁的小巷，雖然離捷運站有...</td>\n",
       "      <td>4</td>\n",
       "    </tr>\n",
       "    <tr>\n",
       "      <th>93</th>\n",
       "      <td>好吃又便宜的鴨血豆腐，還可以加麵加冬粉，味道夠味，湯頭夠勁</td>\n",
       "      <td>5</td>\n",
       "    </tr>\n",
       "    <tr>\n",
       "      <th>94</th>\n",
       "      <td>從學生時期畢業吃到現在不過搬家後發現豆腐不太一樣了變得比較小塊且比較鹹</td>\n",
       "      <td>4</td>\n",
       "    </tr>\n",
       "    <tr>\n",
       "      <th>95</th>\n",
       "      <td>🍲 東北麵(金針菇/豆腐/鴨血/貢丸/辣菜) ➞ $80▪️這天氣來淡水吃麻辣豆腐很棒，我比...</td>\n",
       "      <td>4</td>\n",
       "    </tr>\n",
       "    <tr>\n",
       "      <th>96</th>\n",
       "      <td>電話訂餐時阿婆態度很差，明明自己一直聽不清楚，反怪我沒講清楚，講要換東西後又怪我不一次講(?...</td>\n",
       "      <td>1</td>\n",
       "    </tr>\n",
       "    <tr>\n",
       "      <th>97</th>\n",
       "      <td>店員的服務很主動親切，內用有跟鄰近飲料店合作，閱讀不是很方便的飲料單，很怕辣又愛吃辣的我一定...</td>\n",
       "      <td>5</td>\n",
       "    </tr>\n",
       "    <tr>\n",
       "      <th>98</th>\n",
       "      <td>這樣的份量很划算 而且臭豆腐很紮實夠味 料也很多 湯汁濃郁 只是中辣不辣 下次吃吃大辣</td>\n",
       "      <td>5</td>\n",
       "    </tr>\n",
       "    <tr>\n",
       "      <th>99</th>\n",
       "      <td>八十元的價格，吃起來算不錯！環境也很乾淨！路過可以來吃一吃！</td>\n",
       "      <td>4</td>\n",
       "    </tr>\n",
       "  </tbody>\n",
       "</table>\n",
       "</div>"
      ],
      "text/plain": [
       "                                                   評論  星等\n",
       "0   第一次用餐 體驗還不錯～我點的是三寶麵（冬粉、東北麵、米苔目）中辣 （不曉得是不是店員怕我不...   5\n",
       "1   餐具自取，有提供杯水湯頭小辣覺得剛好，整體喝起來很順口，帶點微微花椒香氣配料可請店員更換調整...   4\n",
       "2   體驗輕軌在淡江大學站下車，在搜尋附近美食，看到這家後，決定來吃看看，從輕軌站出來沿路下山走路...   5\n",
       "3   阿就...普普通通的味精做的臭臭鍋口味產品....店員態度不是很好...環境不是很好.......   2\n",
       "4                          遠遠就聞到為啦😍鴨血滑嫩好吃😋豆腐也不錯.湯頭香濃.   5\n",
       "5                湯頭溫順不重鹹，豆腐有入味可惜稍嫌不夠臭，鴨血滑嫩好吃，整體來說還不錯。   3\n",
       "6   服務：離開學校後再回來，已經搬到操場旁，環境是比以前乾淨許多，座位也變多了，服務態度也不錯，...   4\n",
       "7   一碗80 麵給蠻多的 鴨血四塊 滷的沒腥味 麻辣臭豆腐兩塊還算入味 其他還有金針菇 高麗菜 ...   3\n",
       "8   鴨血+臭豆腐共4塊一碗45鴨血很嫩，可以分紅燒/小辣/中辣/大辣加麵加料的80當正餐男生應該...   5\n",
       "9   畢業後7年再度回訪 口味不變一樣好吃漲價我覺得合理 只要品質維持住 漲可以接受過去的紅茶沒了...   5\n",
       "10                    東北麵加麵鴨血和豆腐算好吃，叫號碼取餐，人多要等很久，價錢還行   4\n",
       "11                                還不錯 點了東北麵中辣下次點大辣 冬粉   4\n",
       "12  又做錯⋯下午非餐期點了豆腐湯外帶回去，一打開就看見四塊鴨血，已經不是第一次這樣了，上次做錯還...   1\n",
       "13  果然還是想念的那個味道😭也沒有等太久 現在的用餐環境變好了下次還要這樣點：東北麵 金針丸子換...   5\n",
       "14  第一次吃到蕎麥麵搭配的豆腐鴨血，建議小辣更好吃！麵量份量充足，鴨血入味，可以免費加湯，加全碗...   4\n",
       "15  吃的是一種回憶從以前60元加麵不用錢到現在一碗80元加麵10元從以前在大學城到現在搬到學府路...   4\n",
       "16                      一碗80元，我個人覺得cp值滿高豬血嫩又好吃！目前只收現金   5\n",
       "17  只有單一品項的店：臭豆腐麵，淡水生意卻非常好。可以選擇東北麵、米苔目、冬粉。鴨血的口味很好，...   4\n",
       "18                            CP值高 份量超夠吃 第一次吃到這麼入味的豆腐   5\n",
       "19                     米台目很好吃，但自重搬來這就很少來，不好停車，也不能電話先訂   4\n",
       "20                                   份量很大！調味有特色很適合冬天吃   5\n",
       "21                           價格有點小貴對一個南部人來說 80塊來說吃不太飽   3\n",
       "22              味道跟虎尾賣的差不多，如果想回去虎尾吃但覺得遠，可以來這裡找到那熟悉的味道   5\n",
       "23        份量蠻多的東北麵蠻容易爛掉的要趕快吃有不吃的食材都可以更換👍豆腐吸滿滿湯汁 超好吃❤️   5\n",
       "24  有禮貌地確認是否不能內用，被店員兇「你應該用看的就知道不能內用」😑店門口完全沒貼「禁內用」的...   1\n",
       "25  求學時期的好味道，到現在仍是沒有變👍，雖然價格漲到$80，但還算可接受的範圍。鴨血十分新鮮有...   5\n",
       "26  嗨， 看過各位大大們的評論了 ，原來不是只有我覺得這間店的服務態度非常差。食物本身我給4顆星...   2\n",
       "27  口味ok  但是附近太難停車開車到附近空曠地點先停打電話先預訂外帶  還被告知  到場才能點...   3\n",
       "28  非常優秀，鴨血「嫩」！，豆腐孔洞多，充滿湯汁，非常好吃！東北麵也很推薦，米苔目很Q，來淡水一...   5\n",
       "29  淡水的大吉祥東北麵，主要的內容食材為“臭豆腐、鴨血、小丸子、金針菇”，湯頭類似麻辣鍋的湯頭，...   4\n",
       "30         朋友介紹來吃的，聽說超過20年以上，湯頭很好，鴨血也很好吃，推，價格以學生來說很親民   5\n",
       "31  我一向很尊敬老人，但這個老人態度很差，你門口又沒寫要怎麼點餐，一出來就兇人，是再兇什麼，不是...   1\n",
       "32  週六下午2點左右內用還是很多人點了紅燒東北麵跟小辣東北麵但他們小辣其實不太辣(本人頗不能吃辣...   3\n",
       "33  自從朋友帶我來吃過後，就覺得很喜歡，所以這次也帶家人一起來吃☺️☺️✔️店內的店員、老闆都很...   4\n",
       "34  是好吃，從佛心暢飲紅茶、加麵加湯、加泡菜，現在真的回不去了只能加湯...，但店家也努力改變很...   5\n",
       "35                好吃,湯味道剛好不死鹹,鴨血給好多照片下面是滿滿的麵,這樣80很ok!   5\n",
       "36  跟朋友兩人來吃我們各背一個後背包坐下時想放在沒人的座位上（店裡還有許多空位）卻被阻止說不能放...   2\n",
       "37    疫情穩定開放內用後回去吃，只覺得料的份量少好多！下次不會特定跑去遙遠的淡水吃了...（住新店）   2\n",
       "38  從60元吃到現在80元～ㄧ樣很好吃啊！天氣冷冷來ㄧ碗真的超滿足！不吃辣的可以吃紅燒的！連小朋...   5\n",
       "39                     雖然換了地點⋯雖然漲價了⋯但依舊是淡江人的回憶，吃的是青春！   5\n",
       "40  員工沒戴口罩，點餐員工收錢後也沒消毒手，又直接拿取裝食物的袋子手直接伸進去撐開，碗掉落地上，...   1\n",
       "41  豆腐跟鴨血很入味，平民中的美食😋😋😋很大一碗CP值高😍😍😍淡水捷運站坐紅28到淡江大學站下車...   5\n",
       "42                                      好吃的豆腐與鴨血，值得品嚐   5\n",
       "43                                         麵條選擇多、料可以換   4\n",
       "44  辣味（可選小辣、中辣、大辣）麵（可選東北麵、烏龍麵、冬粉），紅燒（不辣），每碗80元，外帶是...   4\n",
       "45  聽說是淡大人回憶，冬季溼冷淡水的良伴，定價$80，配料固定，豆腐、鴨血、金針菇、丸子，東北麵...   5\n",
       "46               爛透了 效率有夠差勁！明明沒什麼客人，外帶一碗麵足足等了半小時？讓人火大   1\n",
       "47  淡江大學生的最愛排了滿多人的🅿️：1.開車，附近🈶️汽車停車場在走路過來2.騎機車3.騎ub...   4\n",
       "48  豆腐絕對是目前吃過最好吃的完全有5星的資格但湯頭沒有想像中好喝香氣略顯不足（？）鴨血也不夠味...   3\n",
       "49  80一碗，鴨血4塊、豆腐2塊、小貢丸5顆、辣菜、金針菇，麵條有三款可挑，料多，味道不錯~上菜...   4\n",
       "50   不能電話預約，出餐速度很慢，讓一堆人擠在門口「群聚」。其中某男老店員態度真的很差，價格很不親民。   1\n",
       "51  食物固然好吃，但吃現場的需要有耐性等，因為不是先到先服務，是看老闆心情，好幾次等超過15分鐘...   1\n",
       "52                          美味臭豆腐鴨血米台目，米台目有彈性，豆腐十分入味！   5\n",
       "53  淡水地區有名的校園美食之一如果有到淡水想吃個便餐推薦可以前來試試但若是認真想找美食我想應該還...   4\n",
       "54  進門有空位都能坐，店員會問誰還沒點餐，說一聲他就會過來幫你點餐。鴨血臭豆腐一碗$80，可選辣...   3\n",
       "55             80元的份量非常足夠鴨血搭配東北麵是較多人的選擇上菜速度跟空間都讓人感到舒適   4\n",
       "56  湯頭濃郁，米苔目很Q彈，冬粉吸飽湯汁吃起來很過癮！底料（鴨血臭豆腐）非常好吃！！！！Cp非常...   5\n",
       "57                        一如既往的好吃！沒吃過米苔目的一定要試試看，我的最愛！   5\n",
       "58  我們從舊的店面吃到換新的店面，唯一的感受是態度愈來愈差，內用點餐的人員真的服務態度好差喔，連...   2\n",
       "59                    好吃//吃很多次了看最近網評似乎服務態度很差，還好，我沒遇到～   5\n",
       "60  從大學吃到出社會，自從搬家後覺得點餐的阿姨動作慢，態度差！到底有多不耐煩，看著你們的招牌表示...   2\n",
       "61  鴨血真的好嫩、豆腐也很入味，辣菜特別脆，東北麵也不軟爛，滿滿一碗80可以免費加湯，加麵要等麵...   5\n",
       "62  只能說活了快40年，吃過最好吃的鴨血豆腐店! 無論是鴨血滑嫩度、豆腐的入味味、湯頭鹹淡以及配...   5\n",
       "63  店面寬敞舒適；湯頭好喝，食材都很入味；麵可以混搭，這樣可以同時吃到吸附湯汁香氣的東北麵與Q彈...   5\n",
       "64  東北麵非常入味好吃，建議第一次來的人嘗試看看，個人很會吃辣，中辣覺得不會太辣，不喜歡鴨血的人...   5\n",
       "65                    第一次吃新地址，味道跟往常一模一樣，店內環境變得寬敞乾淨很多。   5\n",
       "66                   豆腐和鴨血很入味可以選擇辣度品項很少，座位區舒適服務人員也很親切   4\n",
       "67                          蠻好吃的 一碗80入座後服務人員會來點餐有免費冰水   5\n",
       "68                                  沒有以前好吃，店員說話有些不耐煩。   3\n",
       "69            以前給過五星現在再過來，店裡客人沒坐滿，還要等很久，態度也變差了，所以收回2星   3\n",
       "70  吃了10幾年，從淡江大學旁吃到現在口味是稍微變淡，店員還可以(沒碰到沒禮貌的)，倒是碰到比較...   4\n",
       "71                   鴨血豆腐都很入味最愛他們家的東北麵！Ig:shih___food   5\n",
       "72       東西好吃，但是改了不能先電話預約再取餐，讓一群人群聚在門口等餐，試問店家這樣有比較好嗎？   1\n",
       "73  $80料多便宜又好吃豆腐滷的很入味一碗吃的很飽，口味小辣就蠻辣的辣菜很脆很好吃！中午人很多要...   5\n",
       "74  菜單詳細列出食材，有不喜歡的都可以調整～雖然跟幾年前比起來有漲價又不能免費加麵，但總覺得不能...   5\n",
       "75  本來在淡大北新路時相當好吃 搬到淡大運動場後面 一切都變了 鴨血腥味重 湯頭變味 附的菜也少...   2\n",
       "76                        十多年前的味道依舊沒變，但是位置搬到大田寮那邊不太方便   4\n",
       "77                    淡大人的回憶，雖然不像學生時期那麼高cp值，但味道還是讓人懷念   5\n",
       "78  就在剛剛一位對工作很不耐煩的阿姨幫我點餐我在點餐就一直插嘴 我只說我不要什麼要換什麼還沒聽完...   1\n",
       "79                                        鴨血豆腐超入味，好吃。   5\n",
       "80                食物4顆星、服務態度0.5顆星食物好吃歸好吃、態度部分真的非常有待加強   2\n",
       "81                                便宜好吃 記得要至少小辣 味道完全不同   5\n",
       "82                            兩個人點不一樣的，一人一碗，吃到不同口味比較好   4\n",
       "83  現在因為疫情的關係沒有辦法內用，所以豆腐的燙跟香，還是略有差異，不過不過很多人可能是透過打電...   3\n",
       "84                           臭豆腐很紮實很喜歡！一大碗吃下來80元覺得可以！   4\n",
       "85  態度真的很差。自帶餐具。只是想多一點點湯也不願意給😡不是加湯免費嗎！會自帶餐具的就是常客。連...   2\n",
       "86  很傳統的小店，鴨血臭豆腐是招牌，是淡大熱門在地美食。點餐流程是選擇一樣麵食，料基本就有鴨血、...   4\n",
       "87  8/26晚上想內用，不過目前還沒開放內用，因為專程從台中上台北吃，所幸外帶一碗到淡水老街旁椅...   5\n",
       "88                      湯頭好喝不死鹹，個人覺的小辣更加分來淡江大學附近一定要品嚐   5\n",
       "89                                         湯頭中辣鮮，料多食足   5\n",
       "90           疫情期間 下午3-5點沒開哦 大家別來!粉絲專業放假的嗎?連這細節都不公布一下?   1\n",
       "91  一碗鴨血臭豆腐+東北麵，整碗應有盡有，豆腐的每個孔洞吸滿湯汁與香氣，鴨血較沒那麼入味但仍是很...   5\n",
       "92  以前舊店址在淡大北新路上，蠻多人稱他為淡水必吃美食，後來搬到淡大操場旁的小巷，雖然離捷運站有...   4\n",
       "93                      好吃又便宜的鴨血豆腐，還可以加麵加冬粉，味道夠味，湯頭夠勁   5\n",
       "94                從學生時期畢業吃到現在不過搬家後發現豆腐不太一樣了變得比較小塊且比較鹹   4\n",
       "95  🍲 東北麵(金針菇/豆腐/鴨血/貢丸/辣菜) ➞ $80▪️這天氣來淡水吃麻辣豆腐很棒，我比...   4\n",
       "96  電話訂餐時阿婆態度很差，明明自己一直聽不清楚，反怪我沒講清楚，講要換東西後又怪我不一次講(?...   1\n",
       "97  店員的服務很主動親切，內用有跟鄰近飲料店合作，閱讀不是很方便的飲料單，很怕辣又愛吃辣的我一定...   5\n",
       "98        這樣的份量很划算 而且臭豆腐很紮實夠味 料也很多 湯汁濃郁 只是中辣不辣 下次吃吃大辣   5\n",
       "99                     八十元的價格，吃起來算不錯！環境也很乾淨！路過可以來吃一吃！   4"
      ]
     },
     "execution_count": 6,
     "metadata": {},
     "output_type": "execute_result"
    }
   ],
   "source": [
    "df"
   ]
  },
  {
   "cell_type": "markdown",
   "metadata": {},
   "source": [
    "# 分詞（tokenization）"
   ]
  },
  {
   "cell_type": "code",
   "execution_count": 8,
   "metadata": {},
   "outputs": [
    {
     "name": "stdout",
     "output_type": "stream",
     "text": [
      "Collecting jieba\n",
      "  Downloading jieba-0.42.1.tar.gz (19.2 MB)Note: you may need to restart the kernel to use updated packages.\n",
      "Building wheels for collected packages: jieba\n",
      "  Building wheel for jieba (setup.py): started\n",
      "  Building wheel for jieba (setup.py): finished with status 'done'\n",
      "  Created wheel for jieba: filename=jieba-0.42.1-py3-none-any.whl size=19314477 sha256=a6e6cd265f6f55e53e422f6511f94227cecc9db4af1749a6f2574e97b91be237\n",
      "  Stored in directory: c:\\users\\johnson\\appdata\\local\\pip\\cache\\wheels\\ca\\38\\d8\\dfdfe73bec1d12026b30cb7ce8da650f3f0ea2cf155ea018ae\n",
      "Successfully built jieba\n",
      "Installing collected packages: jieba\n",
      "Successfully installed jieba-0.42.1\n",
      "\n"
     ]
    }
   ],
   "source": [
    "pip install jieba"
   ]
  },
  {
   "cell_type": "code",
   "execution_count": 16,
   "metadata": {},
   "outputs": [],
   "source": [
    "import jieba\n",
    "jieba.load_userdict(\"dict.txt.big.tw\")"
   ]
  },
  {
   "cell_type": "markdown",
   "metadata": {},
   "source": [
    "因為評論長度偏短，所以在這就先暫不刪除 stopwords，因為其中可能包含帶有情感的單詞，如：嘆詞等 <br>\n",
    "e.g. 僅僅、寧可、但是、而已、唉..."
   ]
  },
  {
   "cell_type": "code",
   "execution_count": 18,
   "metadata": {},
   "outputs": [],
   "source": [
    "punctuation = set()\n",
    "with open ('punctuation_zh_tw.txt', 'r',encoding=\"utf-8\") as f:\n",
    "    for line in f.readlines():\n",
    "        punctuation.add(line.strip())\n",
    "with open ('punctuation_en.txt', 'r',encoding=\"utf-8\") as f:\n",
    "    for line in f.readlines():\n",
    "        punctuation.add(line.strip())\n",
    "punctuation.add(' ')\n",
    "punctuation.add('　') #全形空白"
   ]
  },
  {
   "cell_type": "code",
   "execution_count": 21,
   "metadata": {},
   "outputs": [],
   "source": [
    "bow = set()\n",
    "comment_bow = dict()\n",
    "for i in range(len(df)):\n",
    "    words = [word for word in jieba.cut(df.loc[i,'評論']) if word not in punctuation]\n",
    "    comment_bow.update({i:set(words)})\n",
    "    bow = bow.union(set(words))"
   ]
  },
  {
   "cell_type": "code",
   "execution_count": 22,
   "metadata": {},
   "outputs": [
    {
     "data": {
      "text/plain": [
       "1417"
      ]
     },
     "execution_count": 22,
     "metadata": {},
     "output_type": "execute_result"
    }
   ],
   "source": [
    "len(bow)"
   ]
  },
  {
   "cell_type": "markdown",
   "metadata": {},
   "source": [
    "# 製作 one-hot encoding 特徵\n",
    "註：也可使用 Pandas DataFrame 製作特徵，但速度較使用 numpy ndarray 慢許多。"
   ]
  },
  {
   "cell_type": "code",
   "execution_count": 23,
   "metadata": {},
   "outputs": [],
   "source": [
    "import numpy as np\n",
    "from sklearn.preprocessing import OneHotEncoder\n",
    "\n",
    "bow_array = np.array(list(bow)).reshape(-1, 1)\n",
    "onehot = OneHotEncoder().fit(bow_array)\n",
    "\n",
    "X = np.ndarray((len(df),len(bow)))\n",
    "for i in range(len(df)):\n",
    "    # 少數僅含空白、標點符號之類而被刪除完內容的評論\n",
    "    if(len(comment_bow[i])==0):\n",
    "        X[i] = np.zeros((len(bow)))\n",
    "    else:\n",
    "        comment_array = np.array(list(comment_bow[i])).reshape(-1, 1)\n",
    "        comment_onehot = onehot.transform(comment_array).toarray().sum(axis=0)\n",
    "        X[i] = comment_onehot"
   ]
  },
  {
   "cell_type": "code",
   "execution_count": 24,
   "metadata": {},
   "outputs": [
    {
     "data": {
      "text/plain": [
       "array([[0., 0., 0., ..., 0., 0., 1.],\n",
       "       [0., 0., 0., ..., 0., 0., 0.],\n",
       "       [0., 0., 0., ..., 0., 0., 0.],\n",
       "       ...,\n",
       "       [0., 0., 0., ..., 0., 0., 0.],\n",
       "       [0., 0., 0., ..., 0., 0., 0.],\n",
       "       [0., 0., 0., ..., 0., 0., 0.]])"
      ]
     },
     "execution_count": 24,
     "metadata": {},
     "output_type": "execute_result"
    }
   ],
   "source": [
    "X"
   ]
  },
  {
   "cell_type": "code",
   "execution_count": 25,
   "metadata": {},
   "outputs": [
    {
     "data": {
      "text/plain": [
       "(100, 1417)"
      ]
     },
     "execution_count": 25,
     "metadata": {},
     "output_type": "execute_result"
    }
   ],
   "source": [
    "X.shape"
   ]
  },
  {
   "cell_type": "markdown",
   "metadata": {},
   "source": [
    "# 切分資料"
   ]
  },
  {
   "cell_type": "code",
   "execution_count": 26,
   "metadata": {},
   "outputs": [],
   "source": [
    "y = df['星等']"
   ]
  },
  {
   "cell_type": "code",
   "execution_count": 27,
   "metadata": {},
   "outputs": [],
   "source": [
    "from sklearn.model_selection import train_test_split\n",
    "X_train, X_test, y_train, y_test = train_test_split(X, y, test_size = 0.3)"
   ]
  },
  {
   "cell_type": "markdown",
   "metadata": {},
   "source": [
    "# 機器學習：多元分類\n",
    "- 可自行更換其他機器學習演算法\n",
    "- 可自行調校超參數\n",
    "- 可自行搭配其他 ML 訓練流程中的方法，如：K-fold cross validation"
   ]
  },
  {
   "cell_type": "code",
   "execution_count": 28,
   "metadata": {},
   "outputs": [],
   "source": [
    "import matplotlib.pyplot as plt\n",
    "def plot_confusion_matrix(cm, classes,\n",
    "                          normalize=False,\n",
    "                          title='Confusion matrix',\n",
    "                          cmap=plt.cm.Blues):\n",
    "    \"\"\"\n",
    "    This function prints and plots the confusion matrix.\n",
    "    Normalization can be applied by setting `normalize=True`.\n",
    "    \"\"\"\n",
    "    plt.imshow(cm, interpolation='nearest', cmap=cmap)\n",
    "    plt.title(title)\n",
    "    plt.colorbar()\n",
    "    tick_marks = np.arange(len(classes))\n",
    "    plt.xticks(tick_marks, classes, rotation=45)\n",
    "    plt.yticks(tick_marks, classes)\n",
    "\n",
    "    if normalize:\n",
    "        cm = cm.astype('float') / cm.sum(axis=1)[:, np.newaxis]\n",
    "        print(\"Normalized confusion matrix\")\n",
    "    else:\n",
    "        print('Confusion matrix, without normalization')\n",
    "\n",
    "    print(cm)\n",
    "\n",
    "    thresh = cm.max() / 2.\n",
    "    for i, j in itertools.product(range(cm.shape[0]), range(cm.shape[1])):\n",
    "        plt.text(j, i, cm[i, j],\n",
    "                 horizontalalignment=\"center\",\n",
    "                 color=\"white\" if cm[i, j] > thresh else \"black\")\n",
    "\n",
    "    plt.tight_layout()\n",
    "    plt.ylabel('True label')\n",
    "    plt.xlabel('Predicted label')\n",
    "    \n",
    "#Source code from: http://scikit-learn.org/stable/auto_examples/model_selection/plot_confusion_matrix.html#sphx-glr-auto-examples-model-selection-plot-confusion-matrix-py"
   ]
  },
  {
   "cell_type": "markdown",
   "metadata": {},
   "source": [
    "C: 數值越小，給予越大的正規化（Inverse of regularization strength; Smaller values specify stronger regularization.）"
   ]
  },
  {
   "cell_type": "code",
   "execution_count": 29,
   "metadata": {},
   "outputs": [
    {
     "data": {
      "text/plain": [
       "LogisticRegression(C=1, max_iter=1000)"
      ]
     },
     "execution_count": 29,
     "metadata": {},
     "output_type": "execute_result"
    }
   ],
   "source": [
    "from sklearn.linear_model import LogisticRegression\n",
    "\n",
    "lr = LogisticRegression(C=1, max_iter=1000)\n",
    "lr.fit(X_train, y_train)"
   ]
  },
  {
   "cell_type": "code",
   "execution_count": 30,
   "metadata": {},
   "outputs": [
    {
     "data": {
      "text/plain": [
       "array([1, 2, 3, 4, 5])"
      ]
     },
     "execution_count": 30,
     "metadata": {},
     "output_type": "execute_result"
    }
   ],
   "source": [
    "lr.classes_"
   ]
  },
  {
   "cell_type": "code",
   "execution_count": 31,
   "metadata": {},
   "outputs": [
    {
     "name": "stdout",
     "output_type": "stream",
     "text": [
      "Confusion matrix, without normalization\n",
      "[[ 8  0  0  0  0]\n",
      " [ 0  6  0  0  0]\n",
      " [ 0  0  7  0  0]\n",
      " [ 0  0  0 19  0]\n",
      " [ 0  0  0  0 30]]\n"
     ]
    },
    {
     "data": {
      "image/png": "[encoded data removed]",
      "text/plain": [
       "<Figure size 432x288 with 2 Axes>"
      ]
     },
     "metadata": {
      "needs_background": "light"
     },
     "output_type": "display_data"
    }
   ],
   "source": [
    "from sklearn.metrics import confusion_matrix\n",
    "import itertools\n",
    "\n",
    "cnf_matrix = confusion_matrix(y_train, lr.predict(X_train))\n",
    "target_names = ['1','2','3','4','5']\n",
    "plot_confusion_matrix(cnf_matrix, classes=target_names, title='Confusion matrix')\n",
    "plt.show()"
   ]
  },
  {
   "cell_type": "code",
   "execution_count": 32,
   "metadata": {},
   "outputs": [
    {
     "name": "stdout",
     "output_type": "stream",
     "text": [
      "Confusion matrix, without normalization\n",
      "[[ 0  0  0  1  2]\n",
      " [ 1  1  0  0  1]\n",
      " [ 0  0  0  1  2]\n",
      " [ 0  0  0  1  6]\n",
      " [ 0  0  0  0 14]]\n"
     ]
    },
    {
     "data": {
      "image/png": "[encoded data removed]",
      "text/plain": [
       "<Figure size 432x288 with 2 Axes>"
      ]
     },
     "metadata": {
      "needs_background": "light"
     },
     "output_type": "display_data"
    }
   ],
   "source": [
    "cnf_matrix = confusion_matrix(y_test, lr.predict(X_test))\n",
    "\n",
    "target_names = ['1','2','3','4','5']\n",
    "plot_confusion_matrix(cnf_matrix, classes=target_names, title='Confusion matrix')\n",
    "plt.show()"
   ]
  },
  {
   "cell_type": "code",
   "execution_count": 33,
   "metadata": {},
   "outputs": [
    {
     "name": "stdout",
     "output_type": "stream",
     "text": [
      "              precision    recall  f1-score   support\n",
      "\n",
      "           1       1.00      1.00      1.00         8\n",
      "           2       1.00      1.00      1.00         6\n",
      "           3       1.00      1.00      1.00         7\n",
      "           4       1.00      1.00      1.00        19\n",
      "           5       1.00      1.00      1.00        30\n",
      "\n",
      "    accuracy                           1.00        70\n",
      "   macro avg       1.00      1.00      1.00        70\n",
      "weighted avg       1.00      1.00      1.00        70\n",
      "\n"
     ]
    }
   ],
   "source": [
    "from sklearn.metrics import classification_report\n",
    "print(classification_report(y_train, lr.predict(X_train), target_names=target_names))"
   ]
  },
  {
   "cell_type": "code",
   "execution_count": 34,
   "metadata": {},
   "outputs": [
    {
     "name": "stdout",
     "output_type": "stream",
     "text": [
      "              precision    recall  f1-score   support\n",
      "\n",
      "           1       0.00      0.00      0.00         3\n",
      "           2       1.00      0.33      0.50         3\n",
      "           3       0.00      0.00      0.00         3\n",
      "           4       0.33      0.14      0.20         7\n",
      "           5       0.56      1.00      0.72        14\n",
      "\n",
      "    accuracy                           0.53        30\n",
      "   macro avg       0.38      0.30      0.28        30\n",
      "weighted avg       0.44      0.53      0.43        30\n",
      "\n"
     ]
    },
    {
     "name": "stderr",
     "output_type": "stream",
     "text": [
      "C:\\ProgramData\\Anaconda3\\lib\\site-packages\\sklearn\\metrics\\_classification.py:1245: UndefinedMetricWarning: Precision and F-score are ill-defined and being set to 0.0 in labels with no predicted samples. Use `zero_division` parameter to control this behavior.\n",
      "  _warn_prf(average, modifier, msg_start, len(result))\n",
      "C:\\ProgramData\\Anaconda3\\lib\\site-packages\\sklearn\\metrics\\_classification.py:1245: UndefinedMetricWarning: Precision and F-score are ill-defined and being set to 0.0 in labels with no predicted samples. Use `zero_division` parameter to control this behavior.\n",
      "  _warn_prf(average, modifier, msg_start, len(result))\n",
      "C:\\ProgramData\\Anaconda3\\lib\\site-packages\\sklearn\\metrics\\_classification.py:1245: UndefinedMetricWarning: Precision and F-score are ill-defined and being set to 0.0 in labels with no predicted samples. Use `zero_division` parameter to control this behavior.\n",
      "  _warn_prf(average, modifier, msg_start, len(result))\n"
     ]
    }
   ],
   "source": [
    "print(classification_report(y_test, lr.predict(X_test), target_names=target_names))"
   ]
  },
  {
   "cell_type": "markdown",
   "metadata": {},
   "source": [
    "# 查看一下實際預測資料內容"
   ]
  },
  {
   "cell_type": "code",
   "execution_count": 35,
   "metadata": {},
   "outputs": [
    {
     "data": {
      "text/plain": [
       "Int64Index([11, 69, 21, 58, 20, 94, 83, 26,  8, 84, 46, 71, 44, 17,  2, 40, 35,\n",
       "            93, 13, 73, 33, 60,  0, 72, 77, 88, 34, 30, 14, 38],\n",
       "           dtype='int64')"
      ]
     },
     "execution_count": 35,
     "metadata": {},
     "output_type": "execute_result"
    }
   ],
   "source": [
    "y_test.index"
   ]
  },
  {
   "cell_type": "code",
   "execution_count": 36,
   "metadata": {},
   "outputs": [],
   "source": [
    "df_result = pd.DataFrame({'評論':[],'實際星等':[],'預測星等':[]})\n",
    "\n",
    "for i in range(len(y_test)):\n",
    "    index = y_test.index[i]\n",
    "    df_temp = pd.DataFrame({'評論':df.loc[index,'評論'],'實際星等':df.loc[index,'星等'],\n",
    "                            '預測星等':lr.predict(X_test[i].reshape(1,-1))})\n",
    "    df_result = df_result.append(df_temp).reset_index(drop=True)\n",
    "\n",
    "df_result['實際星等'] = df_result['實際星等'].astype(int)\n",
    "df_result['預測星等'] = df_result['預測星等'].astype(int)"
   ]
  },
  {
   "cell_type": "code",
   "execution_count": 37,
   "metadata": {},
   "outputs": [
    {
     "data": {
      "text/html": [
       "<div>\n",
       "<style scoped>\n",
       "    .dataframe tbody tr th:only-of-type {\n",
       "        vertical-align: middle;\n",
       "    }\n",
       "\n",
       "    .dataframe tbody tr th {\n",
       "        vertical-align: top;\n",
       "    }\n",
       "\n",
       "    .dataframe thead th {\n",
       "        text-align: right;\n",
       "    }\n",
       "</style>\n",
       "<table border=\"1\" class=\"dataframe\">\n",
       "  <thead>\n",
       "    <tr style=\"text-align: right;\">\n",
       "      <th></th>\n",
       "      <th>評論</th>\n",
       "      <th>實際星等</th>\n",
       "      <th>預測星等</th>\n",
       "    </tr>\n",
       "  </thead>\n",
       "  <tbody>\n",
       "    <tr>\n",
       "      <th>0</th>\n",
       "      <td>還不錯 點了東北麵中辣下次點大辣 冬粉</td>\n",
       "      <td>4</td>\n",
       "      <td>5</td>\n",
       "    </tr>\n",
       "    <tr>\n",
       "      <th>1</th>\n",
       "      <td>以前給過五星現在再過來，店裡客人沒坐滿，還要等很久，態度也變差了，所以收回2星</td>\n",
       "      <td>3</td>\n",
       "      <td>4</td>\n",
       "    </tr>\n",
       "    <tr>\n",
       "      <th>2</th>\n",
       "      <td>價格有點小貴對一個南部人來說 80塊來說吃不太飽</td>\n",
       "      <td>3</td>\n",
       "      <td>5</td>\n",
       "    </tr>\n",
       "    <tr>\n",
       "      <th>3</th>\n",
       "      <td>我們從舊的店面吃到換新的店面，唯一的感受是態度愈來愈差，內用點餐的人員真的服務態度好差喔，連...</td>\n",
       "      <td>2</td>\n",
       "      <td>1</td>\n",
       "    </tr>\n",
       "    <tr>\n",
       "      <th>4</th>\n",
       "      <td>份量很大！調味有特色很適合冬天吃</td>\n",
       "      <td>5</td>\n",
       "      <td>5</td>\n",
       "    </tr>\n",
       "    <tr>\n",
       "      <th>5</th>\n",
       "      <td>從學生時期畢業吃到現在不過搬家後發現豆腐不太一樣了變得比較小塊且比較鹹</td>\n",
       "      <td>4</td>\n",
       "      <td>5</td>\n",
       "    </tr>\n",
       "    <tr>\n",
       "      <th>6</th>\n",
       "      <td>現在因為疫情的關係沒有辦法內用，所以豆腐的燙跟香，還是略有差異，不過不過很多人可能是透過打電...</td>\n",
       "      <td>3</td>\n",
       "      <td>5</td>\n",
       "    </tr>\n",
       "    <tr>\n",
       "      <th>7</th>\n",
       "      <td>嗨， 看過各位大大們的評論了 ，原來不是只有我覺得這間店的服務態度非常差。食物本身我給4顆星...</td>\n",
       "      <td>2</td>\n",
       "      <td>2</td>\n",
       "    </tr>\n",
       "    <tr>\n",
       "      <th>8</th>\n",
       "      <td>鴨血+臭豆腐共4塊一碗45鴨血很嫩，可以分紅燒/小辣/中辣/大辣加麵加料的80當正餐男生應該...</td>\n",
       "      <td>5</td>\n",
       "      <td>5</td>\n",
       "    </tr>\n",
       "    <tr>\n",
       "      <th>9</th>\n",
       "      <td>臭豆腐很紮實很喜歡！一大碗吃下來80元覺得可以！</td>\n",
       "      <td>4</td>\n",
       "      <td>5</td>\n",
       "    </tr>\n",
       "    <tr>\n",
       "      <th>10</th>\n",
       "      <td>爛透了 效率有夠差勁！明明沒什麼客人，外帶一碗麵足足等了半小時？讓人火大</td>\n",
       "      <td>1</td>\n",
       "      <td>5</td>\n",
       "    </tr>\n",
       "    <tr>\n",
       "      <th>11</th>\n",
       "      <td>鴨血豆腐都很入味最愛他們家的東北麵！Ig:shih___food</td>\n",
       "      <td>5</td>\n",
       "      <td>5</td>\n",
       "    </tr>\n",
       "    <tr>\n",
       "      <th>12</th>\n",
       "      <td>辣味（可選小辣、中辣、大辣）麵（可選東北麵、烏龍麵、冬粉），紅燒（不辣），每碗80元，外帶是...</td>\n",
       "      <td>4</td>\n",
       "      <td>5</td>\n",
       "    </tr>\n",
       "    <tr>\n",
       "      <th>13</th>\n",
       "      <td>只有單一品項的店：臭豆腐麵，淡水生意卻非常好。可以選擇東北麵、米苔目、冬粉。鴨血的口味很好，...</td>\n",
       "      <td>4</td>\n",
       "      <td>5</td>\n",
       "    </tr>\n",
       "    <tr>\n",
       "      <th>14</th>\n",
       "      <td>體驗輕軌在淡江大學站下車，在搜尋附近美食，看到這家後，決定來吃看看，從輕軌站出來沿路下山走路...</td>\n",
       "      <td>5</td>\n",
       "      <td>5</td>\n",
       "    </tr>\n",
       "    <tr>\n",
       "      <th>15</th>\n",
       "      <td>員工沒戴口罩，點餐員工收錢後也沒消毒手，又直接拿取裝食物的袋子手直接伸進去撐開，碗掉落地上，...</td>\n",
       "      <td>1</td>\n",
       "      <td>5</td>\n",
       "    </tr>\n",
       "    <tr>\n",
       "      <th>16</th>\n",
       "      <td>好吃,湯味道剛好不死鹹,鴨血給好多照片下面是滿滿的麵,這樣80很ok!</td>\n",
       "      <td>5</td>\n",
       "      <td>5</td>\n",
       "    </tr>\n",
       "    <tr>\n",
       "      <th>17</th>\n",
       "      <td>好吃又便宜的鴨血豆腐，還可以加麵加冬粉，味道夠味，湯頭夠勁</td>\n",
       "      <td>5</td>\n",
       "      <td>5</td>\n",
       "    </tr>\n",
       "    <tr>\n",
       "      <th>18</th>\n",
       "      <td>果然還是想念的那個味道😭也沒有等太久 現在的用餐環境變好了下次還要這樣點：東北麵 金針丸子換...</td>\n",
       "      <td>5</td>\n",
       "      <td>5</td>\n",
       "    </tr>\n",
       "    <tr>\n",
       "      <th>19</th>\n",
       "      <td>$80料多便宜又好吃豆腐滷的很入味一碗吃的很飽，口味小辣就蠻辣的辣菜很脆很好吃！中午人很多要...</td>\n",
       "      <td>5</td>\n",
       "      <td>5</td>\n",
       "    </tr>\n",
       "    <tr>\n",
       "      <th>20</th>\n",
       "      <td>自從朋友帶我來吃過後，就覺得很喜歡，所以這次也帶家人一起來吃☺️☺️✔️店內的店員、老闆都很...</td>\n",
       "      <td>4</td>\n",
       "      <td>4</td>\n",
       "    </tr>\n",
       "    <tr>\n",
       "      <th>21</th>\n",
       "      <td>從大學吃到出社會，自從搬家後覺得點餐的阿姨動作慢，態度差！到底有多不耐煩，看著你們的招牌表示...</td>\n",
       "      <td>2</td>\n",
       "      <td>5</td>\n",
       "    </tr>\n",
       "    <tr>\n",
       "      <th>22</th>\n",
       "      <td>第一次用餐 體驗還不錯～我點的是三寶麵（冬粉、東北麵、米苔目）中辣 （不曉得是不是店員怕我不...</td>\n",
       "      <td>5</td>\n",
       "      <td>5</td>\n",
       "    </tr>\n",
       "    <tr>\n",
       "      <th>23</th>\n",
       "      <td>東西好吃，但是改了不能先電話預約再取餐，讓一群人群聚在門口等餐，試問店家這樣有比較好嗎？</td>\n",
       "      <td>1</td>\n",
       "      <td>4</td>\n",
       "    </tr>\n",
       "    <tr>\n",
       "      <th>24</th>\n",
       "      <td>淡大人的回憶，雖然不像學生時期那麼高cp值，但味道還是讓人懷念</td>\n",
       "      <td>5</td>\n",
       "      <td>5</td>\n",
       "    </tr>\n",
       "    <tr>\n",
       "      <th>25</th>\n",
       "      <td>湯頭好喝不死鹹，個人覺的小辣更加分來淡江大學附近一定要品嚐</td>\n",
       "      <td>5</td>\n",
       "      <td>5</td>\n",
       "    </tr>\n",
       "    <tr>\n",
       "      <th>26</th>\n",
       "      <td>是好吃，從佛心暢飲紅茶、加麵加湯、加泡菜，現在真的回不去了只能加湯...，但店家也努力改變很...</td>\n",
       "      <td>5</td>\n",
       "      <td>5</td>\n",
       "    </tr>\n",
       "    <tr>\n",
       "      <th>27</th>\n",
       "      <td>朋友介紹來吃的，聽說超過20年以上，湯頭很好，鴨血也很好吃，推，價格以學生來說很親民</td>\n",
       "      <td>5</td>\n",
       "      <td>5</td>\n",
       "    </tr>\n",
       "    <tr>\n",
       "      <th>28</th>\n",
       "      <td>第一次吃到蕎麥麵搭配的豆腐鴨血，建議小辣更好吃！麵量份量充足，鴨血入味，可以免費加湯，加全碗...</td>\n",
       "      <td>4</td>\n",
       "      <td>5</td>\n",
       "    </tr>\n",
       "    <tr>\n",
       "      <th>29</th>\n",
       "      <td>從60元吃到現在80元～ㄧ樣很好吃啊！天氣冷冷來ㄧ碗真的超滿足！不吃辣的可以吃紅燒的！連小朋...</td>\n",
       "      <td>5</td>\n",
       "      <td>5</td>\n",
       "    </tr>\n",
       "  </tbody>\n",
       "</table>\n",
       "</div>"
      ],
      "text/plain": [
       "                                                   評論  實際星等  預測星等\n",
       "0                                 還不錯 點了東北麵中辣下次點大辣 冬粉     4     5\n",
       "1             以前給過五星現在再過來，店裡客人沒坐滿，還要等很久，態度也變差了，所以收回2星     3     4\n",
       "2                            價格有點小貴對一個南部人來說 80塊來說吃不太飽     3     5\n",
       "3   我們從舊的店面吃到換新的店面，唯一的感受是態度愈來愈差，內用點餐的人員真的服務態度好差喔，連...     2     1\n",
       "4                                    份量很大！調味有特色很適合冬天吃     5     5\n",
       "5                 從學生時期畢業吃到現在不過搬家後發現豆腐不太一樣了變得比較小塊且比較鹹     4     5\n",
       "6   現在因為疫情的關係沒有辦法內用，所以豆腐的燙跟香，還是略有差異，不過不過很多人可能是透過打電...     3     5\n",
       "7   嗨， 看過各位大大們的評論了 ，原來不是只有我覺得這間店的服務態度非常差。食物本身我給4顆星...     2     2\n",
       "8   鴨血+臭豆腐共4塊一碗45鴨血很嫩，可以分紅燒/小辣/中辣/大辣加麵加料的80當正餐男生應該...     5     5\n",
       "9                            臭豆腐很紮實很喜歡！一大碗吃下來80元覺得可以！     4     5\n",
       "10               爛透了 效率有夠差勁！明明沒什麼客人，外帶一碗麵足足等了半小時？讓人火大     1     5\n",
       "11                   鴨血豆腐都很入味最愛他們家的東北麵！Ig:shih___food     5     5\n",
       "12  辣味（可選小辣、中辣、大辣）麵（可選東北麵、烏龍麵、冬粉），紅燒（不辣），每碗80元，外帶是...     4     5\n",
       "13  只有單一品項的店：臭豆腐麵，淡水生意卻非常好。可以選擇東北麵、米苔目、冬粉。鴨血的口味很好，...     4     5\n",
       "14  體驗輕軌在淡江大學站下車，在搜尋附近美食，看到這家後，決定來吃看看，從輕軌站出來沿路下山走路...     5     5\n",
       "15  員工沒戴口罩，點餐員工收錢後也沒消毒手，又直接拿取裝食物的袋子手直接伸進去撐開，碗掉落地上，...     1     5\n",
       "16                好吃,湯味道剛好不死鹹,鴨血給好多照片下面是滿滿的麵,這樣80很ok!     5     5\n",
       "17                      好吃又便宜的鴨血豆腐，還可以加麵加冬粉，味道夠味，湯頭夠勁     5     5\n",
       "18  果然還是想念的那個味道😭也沒有等太久 現在的用餐環境變好了下次還要這樣點：東北麵 金針丸子換...     5     5\n",
       "19  $80料多便宜又好吃豆腐滷的很入味一碗吃的很飽，口味小辣就蠻辣的辣菜很脆很好吃！中午人很多要...     5     5\n",
       "20  自從朋友帶我來吃過後，就覺得很喜歡，所以這次也帶家人一起來吃☺️☺️✔️店內的店員、老闆都很...     4     4\n",
       "21  從大學吃到出社會，自從搬家後覺得點餐的阿姨動作慢，態度差！到底有多不耐煩，看著你們的招牌表示...     2     5\n",
       "22  第一次用餐 體驗還不錯～我點的是三寶麵（冬粉、東北麵、米苔目）中辣 （不曉得是不是店員怕我不...     5     5\n",
       "23       東西好吃，但是改了不能先電話預約再取餐，讓一群人群聚在門口等餐，試問店家這樣有比較好嗎？     1     4\n",
       "24                    淡大人的回憶，雖然不像學生時期那麼高cp值，但味道還是讓人懷念     5     5\n",
       "25                      湯頭好喝不死鹹，個人覺的小辣更加分來淡江大學附近一定要品嚐     5     5\n",
       "26  是好吃，從佛心暢飲紅茶、加麵加湯、加泡菜，現在真的回不去了只能加湯...，但店家也努力改變很...     5     5\n",
       "27         朋友介紹來吃的，聽說超過20年以上，湯頭很好，鴨血也很好吃，推，價格以學生來說很親民     5     5\n",
       "28  第一次吃到蕎麥麵搭配的豆腐鴨血，建議小辣更好吃！麵量份量充足，鴨血入味，可以免費加湯，加全碗...     4     5\n",
       "29  從60元吃到現在80元～ㄧ樣很好吃啊！天氣冷冷來ㄧ碗真的超滿足！不吃辣的可以吃紅燒的！連小朋...     5     5"
      ]
     },
     "execution_count": 37,
     "metadata": {},
     "output_type": "execute_result"
    }
   ],
   "source": [
    "df_result"
   ]
  },
  {
   "cell_type": "code",
   "execution_count": 38,
   "metadata": {},
   "outputs": [
    {
     "data": {
      "text/html": [
       "<div>\n",
       "<style scoped>\n",
       "    .dataframe tbody tr th:only-of-type {\n",
       "        vertical-align: middle;\n",
       "    }\n",
       "\n",
       "    .dataframe tbody tr th {\n",
       "        vertical-align: top;\n",
       "    }\n",
       "\n",
       "    .dataframe thead th {\n",
       "        text-align: right;\n",
       "    }\n",
       "</style>\n",
       "<table border=\"1\" class=\"dataframe\">\n",
       "  <thead>\n",
       "    <tr style=\"text-align: right;\">\n",
       "      <th></th>\n",
       "      <th>評論</th>\n",
       "      <th>實際星等</th>\n",
       "      <th>預測星等</th>\n",
       "    </tr>\n",
       "  </thead>\n",
       "  <tbody>\n",
       "    <tr>\n",
       "      <th>3</th>\n",
       "      <td>我們從舊的店面吃到換新的店面，唯一的感受是態度愈來愈差，內用點餐的人員真的服務態度好差喔，連...</td>\n",
       "      <td>2</td>\n",
       "      <td>1</td>\n",
       "    </tr>\n",
       "  </tbody>\n",
       "</table>\n",
       "</div>"
      ],
      "text/plain": [
       "                                                  評論  實際星等  預測星等\n",
       "3  我們從舊的店面吃到換新的店面，唯一的感受是態度愈來愈差，內用點餐的人員真的服務態度好差喔，連...     2     1"
      ]
     },
     "execution_count": 38,
     "metadata": {},
     "output_type": "execute_result"
    }
   ],
   "source": [
    "df_result[df_result['預測星等']==1]"
   ]
  },
  {
   "cell_type": "code",
   "execution_count": 39,
   "metadata": {
    "scrolled": true
   },
   "outputs": [
    {
     "data": {
      "text/html": [
       "<div>\n",
       "<style scoped>\n",
       "    .dataframe tbody tr th:only-of-type {\n",
       "        vertical-align: middle;\n",
       "    }\n",
       "\n",
       "    .dataframe tbody tr th {\n",
       "        vertical-align: top;\n",
       "    }\n",
       "\n",
       "    .dataframe thead th {\n",
       "        text-align: right;\n",
       "    }\n",
       "</style>\n",
       "<table border=\"1\" class=\"dataframe\">\n",
       "  <thead>\n",
       "    <tr style=\"text-align: right;\">\n",
       "      <th></th>\n",
       "      <th>評論</th>\n",
       "      <th>實際星等</th>\n",
       "      <th>預測星等</th>\n",
       "    </tr>\n",
       "  </thead>\n",
       "  <tbody>\n",
       "    <tr>\n",
       "      <th>0</th>\n",
       "      <td>還不錯 點了東北麵中辣下次點大辣 冬粉</td>\n",
       "      <td>4</td>\n",
       "      <td>5</td>\n",
       "    </tr>\n",
       "    <tr>\n",
       "      <th>2</th>\n",
       "      <td>價格有點小貴對一個南部人來說 80塊來說吃不太飽</td>\n",
       "      <td>3</td>\n",
       "      <td>5</td>\n",
       "    </tr>\n",
       "    <tr>\n",
       "      <th>4</th>\n",
       "      <td>份量很大！調味有特色很適合冬天吃</td>\n",
       "      <td>5</td>\n",
       "      <td>5</td>\n",
       "    </tr>\n",
       "    <tr>\n",
       "      <th>5</th>\n",
       "      <td>從學生時期畢業吃到現在不過搬家後發現豆腐不太一樣了變得比較小塊且比較鹹</td>\n",
       "      <td>4</td>\n",
       "      <td>5</td>\n",
       "    </tr>\n",
       "    <tr>\n",
       "      <th>6</th>\n",
       "      <td>現在因為疫情的關係沒有辦法內用，所以豆腐的燙跟香，還是略有差異，不過不過很多人可能是透過打電...</td>\n",
       "      <td>3</td>\n",
       "      <td>5</td>\n",
       "    </tr>\n",
       "    <tr>\n",
       "      <th>8</th>\n",
       "      <td>鴨血+臭豆腐共4塊一碗45鴨血很嫩，可以分紅燒/小辣/中辣/大辣加麵加料的80當正餐男生應該...</td>\n",
       "      <td>5</td>\n",
       "      <td>5</td>\n",
       "    </tr>\n",
       "    <tr>\n",
       "      <th>9</th>\n",
       "      <td>臭豆腐很紮實很喜歡！一大碗吃下來80元覺得可以！</td>\n",
       "      <td>4</td>\n",
       "      <td>5</td>\n",
       "    </tr>\n",
       "    <tr>\n",
       "      <th>10</th>\n",
       "      <td>爛透了 效率有夠差勁！明明沒什麼客人，外帶一碗麵足足等了半小時？讓人火大</td>\n",
       "      <td>1</td>\n",
       "      <td>5</td>\n",
       "    </tr>\n",
       "    <tr>\n",
       "      <th>11</th>\n",
       "      <td>鴨血豆腐都很入味最愛他們家的東北麵！Ig:shih___food</td>\n",
       "      <td>5</td>\n",
       "      <td>5</td>\n",
       "    </tr>\n",
       "    <tr>\n",
       "      <th>12</th>\n",
       "      <td>辣味（可選小辣、中辣、大辣）麵（可選東北麵、烏龍麵、冬粉），紅燒（不辣），每碗80元，外帶是...</td>\n",
       "      <td>4</td>\n",
       "      <td>5</td>\n",
       "    </tr>\n",
       "    <tr>\n",
       "      <th>13</th>\n",
       "      <td>只有單一品項的店：臭豆腐麵，淡水生意卻非常好。可以選擇東北麵、米苔目、冬粉。鴨血的口味很好，...</td>\n",
       "      <td>4</td>\n",
       "      <td>5</td>\n",
       "    </tr>\n",
       "    <tr>\n",
       "      <th>14</th>\n",
       "      <td>體驗輕軌在淡江大學站下車，在搜尋附近美食，看到這家後，決定來吃看看，從輕軌站出來沿路下山走路...</td>\n",
       "      <td>5</td>\n",
       "      <td>5</td>\n",
       "    </tr>\n",
       "    <tr>\n",
       "      <th>15</th>\n",
       "      <td>員工沒戴口罩，點餐員工收錢後也沒消毒手，又直接拿取裝食物的袋子手直接伸進去撐開，碗掉落地上，...</td>\n",
       "      <td>1</td>\n",
       "      <td>5</td>\n",
       "    </tr>\n",
       "    <tr>\n",
       "      <th>16</th>\n",
       "      <td>好吃,湯味道剛好不死鹹,鴨血給好多照片下面是滿滿的麵,這樣80很ok!</td>\n",
       "      <td>5</td>\n",
       "      <td>5</td>\n",
       "    </tr>\n",
       "    <tr>\n",
       "      <th>17</th>\n",
       "      <td>好吃又便宜的鴨血豆腐，還可以加麵加冬粉，味道夠味，湯頭夠勁</td>\n",
       "      <td>5</td>\n",
       "      <td>5</td>\n",
       "    </tr>\n",
       "    <tr>\n",
       "      <th>18</th>\n",
       "      <td>果然還是想念的那個味道😭也沒有等太久 現在的用餐環境變好了下次還要這樣點：東北麵 金針丸子換...</td>\n",
       "      <td>5</td>\n",
       "      <td>5</td>\n",
       "    </tr>\n",
       "    <tr>\n",
       "      <th>19</th>\n",
       "      <td>$80料多便宜又好吃豆腐滷的很入味一碗吃的很飽，口味小辣就蠻辣的辣菜很脆很好吃！中午人很多要...</td>\n",
       "      <td>5</td>\n",
       "      <td>5</td>\n",
       "    </tr>\n",
       "    <tr>\n",
       "      <th>21</th>\n",
       "      <td>從大學吃到出社會，自從搬家後覺得點餐的阿姨動作慢，態度差！到底有多不耐煩，看著你們的招牌表示...</td>\n",
       "      <td>2</td>\n",
       "      <td>5</td>\n",
       "    </tr>\n",
       "    <tr>\n",
       "      <th>22</th>\n",
       "      <td>第一次用餐 體驗還不錯～我點的是三寶麵（冬粉、東北麵、米苔目）中辣 （不曉得是不是店員怕我不...</td>\n",
       "      <td>5</td>\n",
       "      <td>5</td>\n",
       "    </tr>\n",
       "    <tr>\n",
       "      <th>24</th>\n",
       "      <td>淡大人的回憶，雖然不像學生時期那麼高cp值，但味道還是讓人懷念</td>\n",
       "      <td>5</td>\n",
       "      <td>5</td>\n",
       "    </tr>\n",
       "    <tr>\n",
       "      <th>25</th>\n",
       "      <td>湯頭好喝不死鹹，個人覺的小辣更加分來淡江大學附近一定要品嚐</td>\n",
       "      <td>5</td>\n",
       "      <td>5</td>\n",
       "    </tr>\n",
       "    <tr>\n",
       "      <th>26</th>\n",
       "      <td>是好吃，從佛心暢飲紅茶、加麵加湯、加泡菜，現在真的回不去了只能加湯...，但店家也努力改變很...</td>\n",
       "      <td>5</td>\n",
       "      <td>5</td>\n",
       "    </tr>\n",
       "    <tr>\n",
       "      <th>27</th>\n",
       "      <td>朋友介紹來吃的，聽說超過20年以上，湯頭很好，鴨血也很好吃，推，價格以學生來說很親民</td>\n",
       "      <td>5</td>\n",
       "      <td>5</td>\n",
       "    </tr>\n",
       "    <tr>\n",
       "      <th>28</th>\n",
       "      <td>第一次吃到蕎麥麵搭配的豆腐鴨血，建議小辣更好吃！麵量份量充足，鴨血入味，可以免費加湯，加全碗...</td>\n",
       "      <td>4</td>\n",
       "      <td>5</td>\n",
       "    </tr>\n",
       "    <tr>\n",
       "      <th>29</th>\n",
       "      <td>從60元吃到現在80元～ㄧ樣很好吃啊！天氣冷冷來ㄧ碗真的超滿足！不吃辣的可以吃紅燒的！連小朋...</td>\n",
       "      <td>5</td>\n",
       "      <td>5</td>\n",
       "    </tr>\n",
       "  </tbody>\n",
       "</table>\n",
       "</div>"
      ],
      "text/plain": [
       "                                                   評論  實際星等  預測星等\n",
       "0                                 還不錯 點了東北麵中辣下次點大辣 冬粉     4     5\n",
       "2                            價格有點小貴對一個南部人來說 80塊來說吃不太飽     3     5\n",
       "4                                    份量很大！調味有特色很適合冬天吃     5     5\n",
       "5                 從學生時期畢業吃到現在不過搬家後發現豆腐不太一樣了變得比較小塊且比較鹹     4     5\n",
       "6   現在因為疫情的關係沒有辦法內用，所以豆腐的燙跟香，還是略有差異，不過不過很多人可能是透過打電...     3     5\n",
       "8   鴨血+臭豆腐共4塊一碗45鴨血很嫩，可以分紅燒/小辣/中辣/大辣加麵加料的80當正餐男生應該...     5     5\n",
       "9                            臭豆腐很紮實很喜歡！一大碗吃下來80元覺得可以！     4     5\n",
       "10               爛透了 效率有夠差勁！明明沒什麼客人，外帶一碗麵足足等了半小時？讓人火大     1     5\n",
       "11                   鴨血豆腐都很入味最愛他們家的東北麵！Ig:shih___food     5     5\n",
       "12  辣味（可選小辣、中辣、大辣）麵（可選東北麵、烏龍麵、冬粉），紅燒（不辣），每碗80元，外帶是...     4     5\n",
       "13  只有單一品項的店：臭豆腐麵，淡水生意卻非常好。可以選擇東北麵、米苔目、冬粉。鴨血的口味很好，...     4     5\n",
       "14  體驗輕軌在淡江大學站下車，在搜尋附近美食，看到這家後，決定來吃看看，從輕軌站出來沿路下山走路...     5     5\n",
       "15  員工沒戴口罩，點餐員工收錢後也沒消毒手，又直接拿取裝食物的袋子手直接伸進去撐開，碗掉落地上，...     1     5\n",
       "16                好吃,湯味道剛好不死鹹,鴨血給好多照片下面是滿滿的麵,這樣80很ok!     5     5\n",
       "17                      好吃又便宜的鴨血豆腐，還可以加麵加冬粉，味道夠味，湯頭夠勁     5     5\n",
       "18  果然還是想念的那個味道😭也沒有等太久 現在的用餐環境變好了下次還要這樣點：東北麵 金針丸子換...     5     5\n",
       "19  $80料多便宜又好吃豆腐滷的很入味一碗吃的很飽，口味小辣就蠻辣的辣菜很脆很好吃！中午人很多要...     5     5\n",
       "21  從大學吃到出社會，自從搬家後覺得點餐的阿姨動作慢，態度差！到底有多不耐煩，看著你們的招牌表示...     2     5\n",
       "22  第一次用餐 體驗還不錯～我點的是三寶麵（冬粉、東北麵、米苔目）中辣 （不曉得是不是店員怕我不...     5     5\n",
       "24                    淡大人的回憶，雖然不像學生時期那麼高cp值，但味道還是讓人懷念     5     5\n",
       "25                      湯頭好喝不死鹹，個人覺的小辣更加分來淡江大學附近一定要品嚐     5     5\n",
       "26  是好吃，從佛心暢飲紅茶、加麵加湯、加泡菜，現在真的回不去了只能加湯...，但店家也努力改變很...     5     5\n",
       "27         朋友介紹來吃的，聽說超過20年以上，湯頭很好，鴨血也很好吃，推，價格以學生來說很親民     5     5\n",
       "28  第一次吃到蕎麥麵搭配的豆腐鴨血，建議小辣更好吃！麵量份量充足，鴨血入味，可以免費加湯，加全碗...     4     5\n",
       "29  從60元吃到現在80元～ㄧ樣很好吃啊！天氣冷冷來ㄧ碗真的超滿足！不吃辣的可以吃紅燒的！連小朋...     5     5"
      ]
     },
     "execution_count": 39,
     "metadata": {},
     "output_type": "execute_result"
    }
   ],
   "source": [
    "df_result[df_result['預測星等']==5]"
   ]
  },
  {
   "cell_type": "markdown",
   "metadata": {},
   "source": [
    "# 查看不同星等評論中的用詞權重排序"
   ]
  },
  {
   "cell_type": "markdown",
   "metadata": {},
   "source": [
    "確認 class 順序，Logistic Regression 會回傳各類別的參數權重值"
   ]
  },
  {
   "cell_type": "code",
   "execution_count": 40,
   "metadata": {},
   "outputs": [
    {
     "data": {
      "text/plain": [
       "array([1, 2, 3, 4, 5])"
      ]
     },
     "execution_count": 40,
     "metadata": {},
     "output_type": "execute_result"
    }
   ],
   "source": [
    "lr.classes_"
   ]
  },
  {
   "cell_type": "markdown",
   "metadata": {},
   "source": [
    "排序方法: <br>\n",
    "argsort()（回傳數值由小至大的 index） <br>\n",
    "argsort()[::-1]（回傳數值由大至小的 index）"
   ]
  },
  {
   "cell_type": "code",
   "execution_count": 41,
   "metadata": {},
   "outputs": [
    {
     "data": {
      "text/plain": [
       "(5, 1417)"
      ]
     },
     "execution_count": 41,
     "metadata": {},
     "output_type": "execute_result"
    }
   ],
   "source": [
    "lr.coef_.shape"
   ]
  },
  {
   "cell_type": "code",
   "execution_count": 42,
   "metadata": {},
   "outputs": [
    {
     "data": {
      "text/plain": [
       "array([ 571,  100,   59, ..., 1376,  380,  521], dtype=int64)"
      ]
     },
     "execution_count": 42,
     "metadata": {},
     "output_type": "execute_result"
    }
   ],
   "source": [
    "lr.coef_.argsort()[0][::-1]"
   ]
  },
  {
   "cell_type": "markdown",
   "metadata": {},
   "source": [
    "<b>星等數 5 的單詞權重排序</b>"
   ]
  },
  {
   "cell_type": "code",
   "execution_count": 43,
   "metadata": {},
   "outputs": [
    {
     "name": "stdout",
     "output_type": "stream",
     "text": [
      "Top 1:\t豆腐\t-0.07307754902567039\n",
      "Top 2:\t吃\t-0.13629803623479153\n",
      "Top 3:\t湯汁\t-0.04570052506993492\n",
      "Top 4:\t米\t-0.1012434095199632\n",
      "Top 5:\t味道\t-0.09409946689652558\n",
      "Top 6:\t入味\t-0.13553211942100896\n",
      "Top 7:\t好吃\t-0.19466775766871064\n",
      "Top 8:\t超\t-0.033654748747468155\n",
      "Top 9:\t漲價\t-0.02655773960796937\n",
      "Top 10:\t苔目\t-0.04533227171295866\n",
      "Top 11:\t免費\t-0.08100262802727758\n",
      "Top 12:\t中辣鮮\t-0.029183729776459257\n",
      "Top 13:\t食足\t-0.029183729776459257\n",
      "Top 14:\t要\t0.08127562355959683\n",
      "Top 15:\t濃郁\t-0.02342532464818249\n",
      "Top 16:\t覺得\t-0.06917473674251375\n",
      "Top 17:\t與\t-0.02005633462384707\n",
      "Top 18:\t一定\t-0.027657151645789003\n",
      "Top 19:\t😋\t-0.024159685715021827\n",
      "Top 20:\t😍\t-0.024159685715021827\n"
     ]
    }
   ],
   "source": [
    "label_index = 4\n",
    "topn = 20\n",
    "n_features = lr.coef_.shape[1]\n",
    "\n",
    "keywords = {}\n",
    "for i in range(topn):\n",
    "    topn_index = lr.coef_.argsort()[label_index][::-1][i]\n",
    "    word_vec = np.zeros(n_features)\n",
    "    word_vec[topn_index] = 1\n",
    "    word = onehot.inverse_transform(word_vec.reshape(1,-1))\n",
    "    keywords.update({word[0][0]: lr.coef_[0][topn_index]})\n",
    "    print('Top ' + str(i+1) + ':\\t' + word[0][0] + '\\t' + str(lr.coef_[0][topn_index]))"
   ]
  },
  {
   "cell_type": "code",
   "execution_count": 45,
   "metadata": {},
   "outputs": [
    {
     "name": "stdout",
     "output_type": "stream",
     "text": [
      "Collecting wordcloud\n",
      "  Downloading wordcloud-1.8.1-cp38-cp38-win_amd64.whl (155 kB)\n",
      "Requirement already satisfied: pillow in c:\\programdata\\anaconda3\\lib\\site-packages (from wordcloud) (8.2.0)\n",
      "Requirement already satisfied: numpy>=1.6.1 in c:\\programdata\\anaconda3\\lib\\site-packages (from wordcloud) (1.20.1)\n",
      "Requirement already satisfied: matplotlib in c:\\programdata\\anaconda3\\lib\\site-packages (from wordcloud) (3.3.4)\n",
      "Requirement already satisfied: cycler>=0.10 in c:\\programdata\\anaconda3\\lib\\site-packages (from matplotlib->wordcloud) (0.10.0)\n",
      "Requirement already satisfied: kiwisolver>=1.0.1 in c:\\programdata\\anaconda3\\lib\\site-packages (from matplotlib->wordcloud) (1.3.1)\n",
      "Requirement already satisfied: python-dateutil>=2.1 in c:\\programdata\\anaconda3\\lib\\site-packages (from matplotlib->wordcloud) (2.8.1)\n",
      "Requirement already satisfied: pyparsing!=2.0.4,!=2.1.2,!=2.1.6,>=2.0.3 in c:\\programdata\\anaconda3\\lib\\site-packages (from matplotlib->wordcloud) (2.4.7)\n",
      "Requirement already satisfied: six in c:\\programdata\\anaconda3\\lib\\site-packages (from cycler>=0.10->matplotlib->wordcloud) (1.15.0)\n",
      "Installing collected packages: wordcloud\n",
      "Successfully installed wordcloud-1.8.1\n",
      "Note: you may need to restart the kernel to use updated packages.\n"
     ]
    },
    {
     "name": "stderr",
     "output_type": "stream",
     "text": [
      "  WARNING: Retrying (Retry(total=4, connect=None, read=None, redirect=None, status=None)) after connection broken by 'ReadTimeoutError(\"HTTPSConnectionPool(host='files.pythonhosted.org', port=443): Read timed out. (read timeout=15)\")': /packages/fc/7e/5848c211b1f141ffae41f0f05d72c0bfdb4816f9bf9d80f02962d019b8fe/wordcloud-1.8.1-cp38-cp38-win_amd64.whl\n",
      "  WARNING: Retrying (Retry(total=3, connect=None, read=None, redirect=None, status=None)) after connection broken by 'ReadTimeoutError(\"HTTPSConnectionPool(host='files.pythonhosted.org', port=443): Read timed out. (read timeout=15)\")': /packages/fc/7e/5848c211b1f141ffae41f0f05d72c0bfdb4816f9bf9d80f02962d019b8fe/wordcloud-1.8.1-cp38-cp38-win_amd64.whl\n",
      "  WARNING: Retrying (Retry(total=2, connect=None, read=None, redirect=None, status=None)) after connection broken by 'ReadTimeoutError(\"HTTPSConnectionPool(host='files.pythonhosted.org', port=443): Read timed out. (read timeout=15)\")': /packages/fc/7e/5848c211b1f141ffae41f0f05d72c0bfdb4816f9bf9d80f02962d019b8fe/wordcloud-1.8.1-cp38-cp38-win_amd64.whl\n",
      "  WARNING: Retrying (Retry(total=1, connect=None, read=None, redirect=None, status=None)) after connection broken by 'ReadTimeoutError(\"HTTPSConnectionPool(host='files.pythonhosted.org', port=443): Read timed out. (read timeout=15)\")': /packages/fc/7e/5848c211b1f141ffae41f0f05d72c0bfdb4816f9bf9d80f02962d019b8fe/wordcloud-1.8.1-cp38-cp38-win_amd64.whl\n"
     ]
    }
   ],
   "source": [
    "pip install wordcloud"
   ]
  },
  {
   "cell_type": "code",
   "execution_count": 51,
   "metadata": {},
   "outputs": [],
   "source": [
    "from wordcloud import WordCloud\n",
    "import matplotlib.pyplot as plt\n",
    "%matplotlib inline"
   ]
  },
  {
   "cell_type": "code",
   "execution_count": 56,
   "metadata": {
    "scrolled": false
   },
   "outputs": [
    {
     "data": {
      "image/png": "[encoded data removed]",
      "text/plain": [
       "<Figure size 720x432 with 1 Axes>"
      ]
     },
     "metadata": {
      "needs_background": "light"
     },
     "output_type": "display_data"
    }
   ],
   "source": [
    "wordcloud = WordCloud(font_path='kaiu.ttf', max_font_size=100, max_words=20, background_color=\"white\",scale=10).generate_from_frequencies(dict(keywords))\n",
    "plt.figure(figsize=(10,6))\n",
    "plt.imshow(wordcloud)\n",
    "plt.axis(\"off\")\n",
    "plt.show()"
   ]
  },
  {
   "cell_type": "markdown",
   "metadata": {},
   "source": [
    "<b>星等數 1 的單詞權重排序</b>"
   ]
  },
  {
   "cell_type": "code",
   "execution_count": 57,
   "metadata": {},
   "outputs": [
    {
     "name": "stdout",
     "output_type": "stream",
     "text": [
      "Top 1:\t就\t0.29451488864831044\n",
      "Top 2:\t下午\t0.2612775906998458\n",
      "Top 3:\t一\t0.23917839448652134\n",
      "Top 4:\t一下\t0.2383500081083225\n",
      "Top 5:\t不\t0.2126953621241494\n",
      "Top 6:\t不能\t0.21013572185261206\n",
      "Top 7:\t看\t0.20689967143317028\n",
      "Top 8:\t不是\t0.18820503649827028\n",
      "Top 9:\t在\t0.18622914297839369\n",
      "Top 10:\t期間\t0.1808101192005406\n",
      "Top 11:\t真的\t0.1794237871819342\n",
      "Top 12:\t我\t0.1771329065634382\n",
      "Top 13:\t老\t0.16199016189412513\n",
      "Top 14:\t一堆\t0.16199016189412513\n",
      "Top 15:\t疫情\t0.1586679064002962\n",
      "Top 16:\t門口\t0.15600823014753532\n",
      "Top 17:\t別來\t0.1540460875341323\n",
      "Top 18:\t公布\t0.1540460875341323\n",
      "Top 19:\t細節\t0.1540460875341323\n",
      "Top 20:\t粉絲\t0.1540460875341323\n"
     ]
    }
   ],
   "source": [
    "label_index = 0\n",
    "topn = 20\n",
    "n_features = lr.coef_.shape[1]\n",
    "\n",
    "keywords = {}\n",
    "for i in range(topn):\n",
    "    topn_index = lr.coef_.argsort()[label_index][::-1][i]\n",
    "    word_vec = np.zeros(n_features)\n",
    "    word_vec[topn_index] = 1\n",
    "    word = onehot.inverse_transform(word_vec.reshape(1,-1))\n",
    "    keywords.update({word[0][0]: lr.coef_[0][topn_index]})\n",
    "    print('Top ' + str(i+1) + ':\\t' + word[0][0] + '\\t' + str(lr.coef_[0][topn_index]))"
   ]
  },
  {
   "cell_type": "code",
   "execution_count": 59,
   "metadata": {},
   "outputs": [
    {
     "data": {
      "image/png": "[encoded data removed]",
      "text/plain": [
       "<Figure size 720x432 with 1 Axes>"
      ]
     },
     "metadata": {
      "needs_background": "light"
     },
     "output_type": "display_data"
    }
   ],
   "source": [
    "wordcloud = WordCloud(font_path='kaiu.ttf', max_font_size=100, max_words=20, background_color=\"white\",\n",
    "                     scale=10).generate_from_frequencies(dict(keywords))\n",
    "plt.figure(figsize=(10,6))\n",
    "plt.imshow(wordcloud)\n",
    "plt.axis(\"off\")\n",
    "plt.show()"
   ]
  },
  {
   "cell_type": "markdown",
   "metadata": {},
   "source": [
    "# 小試身手\n",
    "- 嘗試不同單詞產生方法：n-gram (+bigram +trigram...)\n",
    "- 嘗試其他文本向量建立方法：term frequency、tf-idf、topic modeling、word embedding\n",
    "- 更改機器學習演算法\n",
    "- 比較不同方法成效差異"
   ]
  }
 ],
 "metadata": {
  "kernelspec": {
   "display_name": "Python 3",
   "language": "python",
   "name": "python3"
  },
  "language_info": {
   "codemirror_mode": {
    "name": "ipython",
    "version": 3
   },
   "file_extension": ".py",
   "mimetype": "text/x-python",
   "name": "python",
   "nbconvert_exporter": "python",
   "pygments_lexer": "ipython3",
   "version": "3.8.8"
  }
 },
 "nbformat": 4,
 "nbformat_minor": 4
}
